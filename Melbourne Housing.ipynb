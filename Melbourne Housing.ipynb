{
 "cells": [
  {
   "cell_type": "markdown",
   "id": "5528c24d",
   "metadata": {
    "heading_collapsed": true
   },
   "source": [
    "### Import necessary libraries"
   ]
  },
  {
   "cell_type": "code",
   "execution_count": 3,
   "id": "602f3ee6",
   "metadata": {
    "hidden": true
   },
   "outputs": [],
   "source": [
    "import numpy as np\n",
    "import pandas as pd\n",
    "import matplotlib.pyplot as plt\n",
    "import seaborn as sns\n",
    "import requests\n",
    "import os\n",
    "import time\n",
    "from requests.adapters import HTTPAdapter\n",
    "from requests.packages.urllib3.util.retry import Retry\n",
    "from sklearn.linear_model import LinearRegression, Lasso, Ridge, ElasticNet\n",
    "from sklearn.neighbors import KNeighborsRegressor\n",
    "from sklearn.ensemble import RandomForestRegressor, GradientBoostingRegressor, AdaBoostRegressor\n",
    "from sklearn.model_selection import train_test_split\n",
    "import xgboost as xgb\n",
    "from sklearn.metrics import mean_squared_error"
   ]
  },
  {
   "cell_type": "markdown",
   "id": "5ff0b34c",
   "metadata": {
    "heading_collapsed": true
   },
   "source": [
    "### Reading the data files"
   ]
  },
  {
   "cell_type": "code",
   "execution_count": 4,
   "id": "1ee2ee02",
   "metadata": {
    "hidden": true
   },
   "outputs": [],
   "source": [
    "melb_data = pd.read_csv('melb_data.csv')"
   ]
  },
  {
   "cell_type": "markdown",
   "id": "782de62d",
   "metadata": {
    "heading_collapsed": true
   },
   "source": [
    "### Inspecting the dataframes"
   ]
  },
  {
   "cell_type": "code",
   "execution_count": 13,
   "id": "62866351",
   "metadata": {
    "hidden": true
   },
   "outputs": [],
   "source": [
    "pd.set_option('display.max_columns', None)  # Shows all columns"
   ]
  },
  {
   "cell_type": "code",
   "execution_count": 14,
   "id": "0a2c06fd",
   "metadata": {
    "hidden": true
   },
   "outputs": [
    {
     "data": {
      "text/html": [
       "<div>\n",
       "<style scoped>\n",
       "    .dataframe tbody tr th:only-of-type {\n",
       "        vertical-align: middle;\n",
       "    }\n",
       "\n",
       "    .dataframe tbody tr th {\n",
       "        vertical-align: top;\n",
       "    }\n",
       "\n",
       "    .dataframe thead th {\n",
       "        text-align: right;\n",
       "    }\n",
       "</style>\n",
       "<table border=\"1\" class=\"dataframe\">\n",
       "  <thead>\n",
       "    <tr style=\"text-align: right;\">\n",
       "      <th></th>\n",
       "      <th>Suburb</th>\n",
       "      <th>Address</th>\n",
       "      <th>Rooms</th>\n",
       "      <th>Type</th>\n",
       "      <th>Price</th>\n",
       "      <th>Method</th>\n",
       "      <th>SellerG</th>\n",
       "      <th>Date</th>\n",
       "      <th>Distance</th>\n",
       "      <th>Postcode</th>\n",
       "      <th>Bedroom2</th>\n",
       "      <th>Bathroom</th>\n",
       "      <th>Car</th>\n",
       "      <th>Landsize</th>\n",
       "      <th>BuildingArea</th>\n",
       "      <th>YearBuilt</th>\n",
       "      <th>CouncilArea</th>\n",
       "      <th>Lattitude</th>\n",
       "      <th>Longtitude</th>\n",
       "      <th>Regionname</th>\n",
       "      <th>Propertycount</th>\n",
       "    </tr>\n",
       "  </thead>\n",
       "  <tbody>\n",
       "    <tr>\n",
       "      <th>0</th>\n",
       "      <td>Abbotsford</td>\n",
       "      <td>68 Studley St</td>\n",
       "      <td>2</td>\n",
       "      <td>h</td>\n",
       "      <td>NaN</td>\n",
       "      <td>SS</td>\n",
       "      <td>Jellis</td>\n",
       "      <td>3/09/2016</td>\n",
       "      <td>2.5</td>\n",
       "      <td>3067.0</td>\n",
       "      <td>2.0</td>\n",
       "      <td>1.0</td>\n",
       "      <td>1.0</td>\n",
       "      <td>126.0</td>\n",
       "      <td>NaN</td>\n",
       "      <td>NaN</td>\n",
       "      <td>Yarra City Council</td>\n",
       "      <td>-37.8014</td>\n",
       "      <td>144.9958</td>\n",
       "      <td>Northern Metropolitan</td>\n",
       "      <td>4019.0</td>\n",
       "    </tr>\n",
       "    <tr>\n",
       "      <th>1</th>\n",
       "      <td>Abbotsford</td>\n",
       "      <td>85 Turner St</td>\n",
       "      <td>2</td>\n",
       "      <td>h</td>\n",
       "      <td>1480000.0</td>\n",
       "      <td>S</td>\n",
       "      <td>Biggin</td>\n",
       "      <td>3/12/2016</td>\n",
       "      <td>2.5</td>\n",
       "      <td>3067.0</td>\n",
       "      <td>2.0</td>\n",
       "      <td>1.0</td>\n",
       "      <td>1.0</td>\n",
       "      <td>202.0</td>\n",
       "      <td>NaN</td>\n",
       "      <td>NaN</td>\n",
       "      <td>Yarra City Council</td>\n",
       "      <td>-37.7996</td>\n",
       "      <td>144.9984</td>\n",
       "      <td>Northern Metropolitan</td>\n",
       "      <td>4019.0</td>\n",
       "    </tr>\n",
       "    <tr>\n",
       "      <th>2</th>\n",
       "      <td>Abbotsford</td>\n",
       "      <td>25 Bloomburg St</td>\n",
       "      <td>2</td>\n",
       "      <td>h</td>\n",
       "      <td>1035000.0</td>\n",
       "      <td>S</td>\n",
       "      <td>Biggin</td>\n",
       "      <td>4/02/2016</td>\n",
       "      <td>2.5</td>\n",
       "      <td>3067.0</td>\n",
       "      <td>2.0</td>\n",
       "      <td>1.0</td>\n",
       "      <td>0.0</td>\n",
       "      <td>156.0</td>\n",
       "      <td>79.0</td>\n",
       "      <td>1900.0</td>\n",
       "      <td>Yarra City Council</td>\n",
       "      <td>-37.8079</td>\n",
       "      <td>144.9934</td>\n",
       "      <td>Northern Metropolitan</td>\n",
       "      <td>4019.0</td>\n",
       "    </tr>\n",
       "    <tr>\n",
       "      <th>3</th>\n",
       "      <td>Abbotsford</td>\n",
       "      <td>18/659 Victoria St</td>\n",
       "      <td>3</td>\n",
       "      <td>u</td>\n",
       "      <td>NaN</td>\n",
       "      <td>VB</td>\n",
       "      <td>Rounds</td>\n",
       "      <td>4/02/2016</td>\n",
       "      <td>2.5</td>\n",
       "      <td>3067.0</td>\n",
       "      <td>3.0</td>\n",
       "      <td>2.0</td>\n",
       "      <td>1.0</td>\n",
       "      <td>0.0</td>\n",
       "      <td>NaN</td>\n",
       "      <td>NaN</td>\n",
       "      <td>Yarra City Council</td>\n",
       "      <td>-37.8114</td>\n",
       "      <td>145.0116</td>\n",
       "      <td>Northern Metropolitan</td>\n",
       "      <td>4019.0</td>\n",
       "    </tr>\n",
       "    <tr>\n",
       "      <th>4</th>\n",
       "      <td>Abbotsford</td>\n",
       "      <td>5 Charles St</td>\n",
       "      <td>3</td>\n",
       "      <td>h</td>\n",
       "      <td>1465000.0</td>\n",
       "      <td>SP</td>\n",
       "      <td>Biggin</td>\n",
       "      <td>4/03/2017</td>\n",
       "      <td>2.5</td>\n",
       "      <td>3067.0</td>\n",
       "      <td>3.0</td>\n",
       "      <td>2.0</td>\n",
       "      <td>0.0</td>\n",
       "      <td>134.0</td>\n",
       "      <td>150.0</td>\n",
       "      <td>1900.0</td>\n",
       "      <td>Yarra City Council</td>\n",
       "      <td>-37.8093</td>\n",
       "      <td>144.9944</td>\n",
       "      <td>Northern Metropolitan</td>\n",
       "      <td>4019.0</td>\n",
       "    </tr>\n",
       "  </tbody>\n",
       "</table>\n",
       "</div>"
      ],
      "text/plain": [
       "       Suburb             Address  Rooms Type      Price Method SellerG  \\\n",
       "0  Abbotsford       68 Studley St      2    h        NaN     SS  Jellis   \n",
       "1  Abbotsford        85 Turner St      2    h  1480000.0      S  Biggin   \n",
       "2  Abbotsford     25 Bloomburg St      2    h  1035000.0      S  Biggin   \n",
       "3  Abbotsford  18/659 Victoria St      3    u        NaN     VB  Rounds   \n",
       "4  Abbotsford        5 Charles St      3    h  1465000.0     SP  Biggin   \n",
       "\n",
       "        Date  Distance  Postcode  Bedroom2  Bathroom  Car  Landsize  \\\n",
       "0  3/09/2016       2.5    3067.0       2.0       1.0  1.0     126.0   \n",
       "1  3/12/2016       2.5    3067.0       2.0       1.0  1.0     202.0   \n",
       "2  4/02/2016       2.5    3067.0       2.0       1.0  0.0     156.0   \n",
       "3  4/02/2016       2.5    3067.0       3.0       2.0  1.0       0.0   \n",
       "4  4/03/2017       2.5    3067.0       3.0       2.0  0.0     134.0   \n",
       "\n",
       "   BuildingArea  YearBuilt         CouncilArea  Lattitude  Longtitude  \\\n",
       "0           NaN        NaN  Yarra City Council   -37.8014    144.9958   \n",
       "1           NaN        NaN  Yarra City Council   -37.7996    144.9984   \n",
       "2          79.0     1900.0  Yarra City Council   -37.8079    144.9934   \n",
       "3           NaN        NaN  Yarra City Council   -37.8114    145.0116   \n",
       "4         150.0     1900.0  Yarra City Council   -37.8093    144.9944   \n",
       "\n",
       "              Regionname  Propertycount  \n",
       "0  Northern Metropolitan         4019.0  \n",
       "1  Northern Metropolitan         4019.0  \n",
       "2  Northern Metropolitan         4019.0  \n",
       "3  Northern Metropolitan         4019.0  \n",
       "4  Northern Metropolitan         4019.0  "
      ]
     },
     "execution_count": 14,
     "metadata": {},
     "output_type": "execute_result"
    }
   ],
   "source": [
    "melb_data.head()"
   ]
  },
  {
   "cell_type": "code",
   "execution_count": 7,
   "id": "d544ee14",
   "metadata": {
    "hidden": true
   },
   "outputs": [
    {
     "data": {
      "text/plain": [
       "Index(['Suburb', 'Address', 'Rooms', 'Type', 'Price', 'Method', 'SellerG',\n",
       "       'Date', 'Distance', 'Postcode', 'Bedroom2', 'Bathroom', 'Car',\n",
       "       'Landsize', 'BuildingArea', 'YearBuilt', 'CouncilArea', 'Lattitude',\n",
       "       'Longtitude', 'Regionname', 'Propertycount'],\n",
       "      dtype='object')"
      ]
     },
     "execution_count": 7,
     "metadata": {},
     "output_type": "execute_result"
    }
   ],
   "source": [
    "melb_data.columns"
   ]
  },
  {
   "cell_type": "code",
   "execution_count": 8,
   "id": "e63d0223",
   "metadata": {
    "hidden": true
   },
   "outputs": [
    {
     "data": {
      "text/plain": [
       "34857"
      ]
     },
     "execution_count": 8,
     "metadata": {},
     "output_type": "execute_result"
    }
   ],
   "source": [
    "len(melb_data)"
   ]
  },
  {
   "cell_type": "code",
   "execution_count": 9,
   "id": "be633247",
   "metadata": {
    "hidden": true
   },
   "outputs": [
    {
     "name": "stdout",
     "output_type": "stream",
     "text": [
      "<class 'pandas.core.frame.DataFrame'>\n",
      "RangeIndex: 34857 entries, 0 to 34856\n",
      "Data columns (total 21 columns):\n",
      " #   Column         Non-Null Count  Dtype  \n",
      "---  ------         --------------  -----  \n",
      " 0   Suburb         34857 non-null  object \n",
      " 1   Address        34857 non-null  object \n",
      " 2   Rooms          34857 non-null  int64  \n",
      " 3   Type           34857 non-null  object \n",
      " 4   Price          27247 non-null  float64\n",
      " 5   Method         34857 non-null  object \n",
      " 6   SellerG        34857 non-null  object \n",
      " 7   Date           34857 non-null  object \n",
      " 8   Distance       34856 non-null  float64\n",
      " 9   Postcode       34856 non-null  float64\n",
      " 10  Bedroom2       26640 non-null  float64\n",
      " 11  Bathroom       26631 non-null  float64\n",
      " 12  Car            26129 non-null  float64\n",
      " 13  Landsize       23047 non-null  float64\n",
      " 14  BuildingArea   13742 non-null  float64\n",
      " 15  YearBuilt      15551 non-null  float64\n",
      " 16  CouncilArea    34854 non-null  object \n",
      " 17  Lattitude      26881 non-null  float64\n",
      " 18  Longtitude     26881 non-null  float64\n",
      " 19  Regionname     34854 non-null  object \n",
      " 20  Propertycount  34854 non-null  float64\n",
      "dtypes: float64(12), int64(1), object(8)\n",
      "memory usage: 5.6+ MB\n"
     ]
    }
   ],
   "source": [
    "melb_data.info()"
   ]
  },
  {
   "cell_type": "code",
   "execution_count": 10,
   "id": "d19cc0a4",
   "metadata": {
    "hidden": true
   },
   "outputs": [
    {
     "data": {
      "text/plain": [
       "Suburb             351\n",
       "Address          34009\n",
       "Rooms               12\n",
       "Type                 3\n",
       "Price             2871\n",
       "Method               9\n",
       "SellerG            388\n",
       "Date                78\n",
       "Distance           215\n",
       "Postcode           211\n",
       "Bedroom2            15\n",
       "Bathroom            11\n",
       "Car                 15\n",
       "Landsize          1684\n",
       "BuildingArea       740\n",
       "YearBuilt          160\n",
       "CouncilArea         33\n",
       "Lattitude        13402\n",
       "Longtitude       14524\n",
       "Regionname           8\n",
       "Propertycount      342\n",
       "dtype: int64"
      ]
     },
     "execution_count": 10,
     "metadata": {},
     "output_type": "execute_result"
    }
   ],
   "source": [
    "melb_data.nunique()"
   ]
  },
  {
   "cell_type": "code",
   "execution_count": 11,
   "id": "1ee405ff",
   "metadata": {
    "hidden": true
   },
   "outputs": [
    {
     "data": {
      "text/plain": [
       "array(['h', 'u', 't'], dtype=object)"
      ]
     },
     "execution_count": 11,
     "metadata": {},
     "output_type": "execute_result"
    }
   ],
   "source": [
    "melb_data['Type'].unique()"
   ]
  },
  {
   "cell_type": "markdown",
   "id": "0f7426d8",
   "metadata": {
    "heading_collapsed": true
   },
   "source": [
    "### Data Cleaning"
   ]
  },
  {
   "cell_type": "markdown",
   "id": "0cf9d6c4",
   "metadata": {
    "heading_collapsed": true,
    "hidden": true
   },
   "source": [
    "#### Checking for duplicate values"
   ]
  },
  {
   "cell_type": "code",
   "execution_count": 15,
   "id": "b9e0ec30",
   "metadata": {
    "hidden": true
   },
   "outputs": [
    {
     "data": {
      "text/plain": [
       "1"
      ]
     },
     "execution_count": 15,
     "metadata": {},
     "output_type": "execute_result"
    }
   ],
   "source": [
    "melb_data.duplicated().sum()"
   ]
  },
  {
   "cell_type": "code",
   "execution_count": 16,
   "id": "8d612523",
   "metadata": {},
   "outputs": [],
   "source": [
    "# Remove duplicate rows based on all columns\n",
    "melb_data = melb_data.drop_duplicates()"
   ]
  },
  {
   "cell_type": "markdown",
   "id": "a9982be8",
   "metadata": {
    "heading_collapsed": true,
    "hidden": true
   },
   "source": [
    "#### One-hot encoding"
   ]
  },
  {
   "cell_type": "code",
   "execution_count": 17,
   "id": "ee4cf7cb",
   "metadata": {
    "hidden": true
   },
   "outputs": [
    {
     "data": {
      "text/html": [
       "<div>\n",
       "<style scoped>\n",
       "    .dataframe tbody tr th:only-of-type {\n",
       "        vertical-align: middle;\n",
       "    }\n",
       "\n",
       "    .dataframe tbody tr th {\n",
       "        vertical-align: top;\n",
       "    }\n",
       "\n",
       "    .dataframe thead th {\n",
       "        text-align: right;\n",
       "    }\n",
       "</style>\n",
       "<table border=\"1\" class=\"dataframe\">\n",
       "  <thead>\n",
       "    <tr style=\"text-align: right;\">\n",
       "      <th></th>\n",
       "      <th>Suburb</th>\n",
       "      <th>Address</th>\n",
       "      <th>Rooms</th>\n",
       "      <th>Price</th>\n",
       "      <th>Method</th>\n",
       "      <th>SellerG</th>\n",
       "      <th>Date</th>\n",
       "      <th>Distance</th>\n",
       "      <th>Postcode</th>\n",
       "      <th>Bedroom2</th>\n",
       "      <th>Bathroom</th>\n",
       "      <th>Car</th>\n",
       "      <th>Landsize</th>\n",
       "      <th>BuildingArea</th>\n",
       "      <th>YearBuilt</th>\n",
       "      <th>CouncilArea</th>\n",
       "      <th>Lattitude</th>\n",
       "      <th>Longtitude</th>\n",
       "      <th>Regionname</th>\n",
       "      <th>Propertycount</th>\n",
       "      <th>Type_h</th>\n",
       "      <th>Type_t</th>\n",
       "      <th>Type_u</th>\n",
       "    </tr>\n",
       "  </thead>\n",
       "  <tbody>\n",
       "    <tr>\n",
       "      <th>0</th>\n",
       "      <td>Abbotsford</td>\n",
       "      <td>68 Studley St</td>\n",
       "      <td>2</td>\n",
       "      <td>NaN</td>\n",
       "      <td>SS</td>\n",
       "      <td>Jellis</td>\n",
       "      <td>3/09/2016</td>\n",
       "      <td>2.5</td>\n",
       "      <td>3067.0</td>\n",
       "      <td>2.0</td>\n",
       "      <td>1.0</td>\n",
       "      <td>1.0</td>\n",
       "      <td>126.0</td>\n",
       "      <td>NaN</td>\n",
       "      <td>NaN</td>\n",
       "      <td>Yarra City Council</td>\n",
       "      <td>-37.8014</td>\n",
       "      <td>144.9958</td>\n",
       "      <td>Northern Metropolitan</td>\n",
       "      <td>4019.0</td>\n",
       "      <td>True</td>\n",
       "      <td>False</td>\n",
       "      <td>False</td>\n",
       "    </tr>\n",
       "    <tr>\n",
       "      <th>1</th>\n",
       "      <td>Abbotsford</td>\n",
       "      <td>85 Turner St</td>\n",
       "      <td>2</td>\n",
       "      <td>1480000.0</td>\n",
       "      <td>S</td>\n",
       "      <td>Biggin</td>\n",
       "      <td>3/12/2016</td>\n",
       "      <td>2.5</td>\n",
       "      <td>3067.0</td>\n",
       "      <td>2.0</td>\n",
       "      <td>1.0</td>\n",
       "      <td>1.0</td>\n",
       "      <td>202.0</td>\n",
       "      <td>NaN</td>\n",
       "      <td>NaN</td>\n",
       "      <td>Yarra City Council</td>\n",
       "      <td>-37.7996</td>\n",
       "      <td>144.9984</td>\n",
       "      <td>Northern Metropolitan</td>\n",
       "      <td>4019.0</td>\n",
       "      <td>True</td>\n",
       "      <td>False</td>\n",
       "      <td>False</td>\n",
       "    </tr>\n",
       "    <tr>\n",
       "      <th>2</th>\n",
       "      <td>Abbotsford</td>\n",
       "      <td>25 Bloomburg St</td>\n",
       "      <td>2</td>\n",
       "      <td>1035000.0</td>\n",
       "      <td>S</td>\n",
       "      <td>Biggin</td>\n",
       "      <td>4/02/2016</td>\n",
       "      <td>2.5</td>\n",
       "      <td>3067.0</td>\n",
       "      <td>2.0</td>\n",
       "      <td>1.0</td>\n",
       "      <td>0.0</td>\n",
       "      <td>156.0</td>\n",
       "      <td>79.0</td>\n",
       "      <td>1900.0</td>\n",
       "      <td>Yarra City Council</td>\n",
       "      <td>-37.8079</td>\n",
       "      <td>144.9934</td>\n",
       "      <td>Northern Metropolitan</td>\n",
       "      <td>4019.0</td>\n",
       "      <td>True</td>\n",
       "      <td>False</td>\n",
       "      <td>False</td>\n",
       "    </tr>\n",
       "    <tr>\n",
       "      <th>3</th>\n",
       "      <td>Abbotsford</td>\n",
       "      <td>18/659 Victoria St</td>\n",
       "      <td>3</td>\n",
       "      <td>NaN</td>\n",
       "      <td>VB</td>\n",
       "      <td>Rounds</td>\n",
       "      <td>4/02/2016</td>\n",
       "      <td>2.5</td>\n",
       "      <td>3067.0</td>\n",
       "      <td>3.0</td>\n",
       "      <td>2.0</td>\n",
       "      <td>1.0</td>\n",
       "      <td>0.0</td>\n",
       "      <td>NaN</td>\n",
       "      <td>NaN</td>\n",
       "      <td>Yarra City Council</td>\n",
       "      <td>-37.8114</td>\n",
       "      <td>145.0116</td>\n",
       "      <td>Northern Metropolitan</td>\n",
       "      <td>4019.0</td>\n",
       "      <td>False</td>\n",
       "      <td>False</td>\n",
       "      <td>True</td>\n",
       "    </tr>\n",
       "    <tr>\n",
       "      <th>4</th>\n",
       "      <td>Abbotsford</td>\n",
       "      <td>5 Charles St</td>\n",
       "      <td>3</td>\n",
       "      <td>1465000.0</td>\n",
       "      <td>SP</td>\n",
       "      <td>Biggin</td>\n",
       "      <td>4/03/2017</td>\n",
       "      <td>2.5</td>\n",
       "      <td>3067.0</td>\n",
       "      <td>3.0</td>\n",
       "      <td>2.0</td>\n",
       "      <td>0.0</td>\n",
       "      <td>134.0</td>\n",
       "      <td>150.0</td>\n",
       "      <td>1900.0</td>\n",
       "      <td>Yarra City Council</td>\n",
       "      <td>-37.8093</td>\n",
       "      <td>144.9944</td>\n",
       "      <td>Northern Metropolitan</td>\n",
       "      <td>4019.0</td>\n",
       "      <td>True</td>\n",
       "      <td>False</td>\n",
       "      <td>False</td>\n",
       "    </tr>\n",
       "  </tbody>\n",
       "</table>\n",
       "</div>"
      ],
      "text/plain": [
       "       Suburb             Address  Rooms      Price Method SellerG       Date  \\\n",
       "0  Abbotsford       68 Studley St      2        NaN     SS  Jellis  3/09/2016   \n",
       "1  Abbotsford        85 Turner St      2  1480000.0      S  Biggin  3/12/2016   \n",
       "2  Abbotsford     25 Bloomburg St      2  1035000.0      S  Biggin  4/02/2016   \n",
       "3  Abbotsford  18/659 Victoria St      3        NaN     VB  Rounds  4/02/2016   \n",
       "4  Abbotsford        5 Charles St      3  1465000.0     SP  Biggin  4/03/2017   \n",
       "\n",
       "   Distance  Postcode  Bedroom2  Bathroom  Car  Landsize  BuildingArea  \\\n",
       "0       2.5    3067.0       2.0       1.0  1.0     126.0           NaN   \n",
       "1       2.5    3067.0       2.0       1.0  1.0     202.0           NaN   \n",
       "2       2.5    3067.0       2.0       1.0  0.0     156.0          79.0   \n",
       "3       2.5    3067.0       3.0       2.0  1.0       0.0           NaN   \n",
       "4       2.5    3067.0       3.0       2.0  0.0     134.0         150.0   \n",
       "\n",
       "   YearBuilt         CouncilArea  Lattitude  Longtitude  \\\n",
       "0        NaN  Yarra City Council   -37.8014    144.9958   \n",
       "1        NaN  Yarra City Council   -37.7996    144.9984   \n",
       "2     1900.0  Yarra City Council   -37.8079    144.9934   \n",
       "3        NaN  Yarra City Council   -37.8114    145.0116   \n",
       "4     1900.0  Yarra City Council   -37.8093    144.9944   \n",
       "\n",
       "              Regionname  Propertycount  Type_h  Type_t  Type_u  \n",
       "0  Northern Metropolitan         4019.0    True   False   False  \n",
       "1  Northern Metropolitan         4019.0    True   False   False  \n",
       "2  Northern Metropolitan         4019.0    True   False   False  \n",
       "3  Northern Metropolitan         4019.0   False   False    True  \n",
       "4  Northern Metropolitan         4019.0    True   False   False  "
      ]
     },
     "execution_count": 17,
     "metadata": {},
     "output_type": "execute_result"
    }
   ],
   "source": [
    "# Perform one-hot encoding\n",
    "melb_data = pd.get_dummies(melb_data, columns = ['Type'])\n",
    "melb_data.head()"
   ]
  },
  {
   "cell_type": "markdown",
   "id": "81ca1042",
   "metadata": {
    "heading_collapsed": true,
    "hidden": true
   },
   "source": [
    "#### Renaming the dataframe columns"
   ]
  },
  {
   "cell_type": "code",
   "execution_count": 18,
   "id": "389bd974",
   "metadata": {
    "hidden": true
   },
   "outputs": [],
   "source": [
    "# Renaming the dataframe columns\n",
    "melb_data.rename(columns = {'Type_h': 'House', \n",
    "                     'Type_t': 'Townhouse', \n",
    "                     'Type_u': 'Duplex',\n",
    "                    'Bedroom2': 'Bedrooms',\n",
    "                    'Bathroom': 'Bathrooms',\n",
    "                    'Car': 'ParkingCars',\n",
    "                     'Lattitude': 'Latitude',\n",
    "                    'Longtitude': 'Longitude',\n",
    "                    'Propertycount': 'PropertyCount'}, inplace = True)"
   ]
  },
  {
   "cell_type": "markdown",
   "id": "fde6041a",
   "metadata": {
    "heading_collapsed": true,
    "hidden": true
   },
   "source": [
    "#### Dropping unnecessary columns"
   ]
  },
  {
   "cell_type": "code",
   "execution_count": 19,
   "id": "672be4a8",
   "metadata": {
    "hidden": true
   },
   "outputs": [],
   "source": [
    "# Dropping unnecessary columns\n",
    "melb_data.drop('Method', axis = 1, inplace = True)\n",
    "melb_data.drop('SellerG', axis = 1, inplace = True)"
   ]
  },
  {
   "cell_type": "markdown",
   "id": "f6a28ed7",
   "metadata": {
    "heading_collapsed": true,
    "hidden": true
   },
   "source": [
    "#### Converting necessary columns to datetime"
   ]
  },
  {
   "cell_type": "code",
   "execution_count": 22,
   "id": "7ed63aff",
   "metadata": {
    "hidden": true
   },
   "outputs": [],
   "source": [
    "# Convert the 'Date' column to datetime\n",
    "melb_data['Date'] = pd.to_datetime(melb_data['Date'], dayfirst=True)"
   ]
  },
  {
   "cell_type": "markdown",
   "id": "86d332f9",
   "metadata": {
    "heading_collapsed": true,
    "hidden": true
   },
   "source": [
    "#### Converting necessary columns to Int64"
   ]
  },
  {
   "cell_type": "code",
   "execution_count": 24,
   "id": "e8940f53",
   "metadata": {
    "hidden": true
   },
   "outputs": [],
   "source": [
    "# Converting multiple columns to 'Int64' in one line\n",
    "melb_data[['Postcode', 'Bedrooms', 'Bathrooms', 'ParkingCars', 'YearBuilt', 'PropertyCount']] = melb_data[['Postcode', 'Bedrooms', 'Bathrooms', 'ParkingCars', 'YearBuilt', 'PropertyCount']].astype('Int64')"
   ]
  },
  {
   "cell_type": "markdown",
   "id": "64cf68c9",
   "metadata": {
    "heading_collapsed": true,
    "hidden": true
   },
   "source": [
    "#### Google Maps API Call & Function Creation"
   ]
  },
  {
   "cell_type": "code",
   "execution_count": 150,
   "id": "b1e1a0c0",
   "metadata": {
    "hidden": true
   },
   "outputs": [],
   "source": [
    "api_key = os.getenv('GOOGLE_API_KEY') \n",
    "\n",
    "if not api_key:\n",
    "    raise ValueError(\"API key is not set in the environment variables\")"
   ]
  },
  {
   "cell_type": "code",
   "execution_count": 151,
   "id": "f1b314d3",
   "metadata": {
    "hidden": true
   },
   "outputs": [],
   "source": [
    "def get_coordinates_from_address(address, api_key):\n",
    "    # Setup retry strategy\n",
    "    retry_strategy = Retry(\n",
    "        total = 3,  # Retry a total of 3 times\n",
    "        status_forcelist = [429, 500, 502, 503, 504],  # Status codes to retry for\n",
    "        method_whitelist = [\"HEAD\", \"GET\", \"OPTIONS\"]  # Enabled methods to retry on\n",
    "    )\n",
    "    adapter = HTTPAdapter(max_retries = retry_strategy)\n",
    "    http = requests.Session()\n",
    "    http.mount(\"https://\", adapter)\n",
    "    http.mount(\"http://\", adapter)\n",
    "\n",
    "    url = f\"https://maps.googleapis.com/maps/api/geocode/json?address={address}&key={api_key}\"\n",
    "    try:\n",
    "        response = http.get(url)\n",
    "        if response.status_code != 200:\n",
    "            return None, None\n",
    "\n",
    "        results = response.json()\n",
    "        if results.get('status') != 'OK':\n",
    "            return None, None\n",
    "\n",
    "        location = results['results'][0]['geometry']['location']\n",
    "        return location['lat'], location['lng']\n",
    "    except Exception as e:\n",
    "        print(f\"An error occurred: {e}\")\n",
    "        return None, None"
   ]
  },
  {
   "cell_type": "code",
   "execution_count": 152,
   "id": "2fc87ee4",
   "metadata": {
    "hidden": true
   },
   "outputs": [],
   "source": [
    "def find_council(address, api_key):\n",
    "    url = \"https://maps.googleapis.com/maps/api/geocode/json\"\n",
    "    params = {'address': address, 'key': api_key}\n",
    "    response = requests.get(url, params=params)\n",
    "    \n",
    "    if response.status_code == 200:\n",
    "        data = response.json()\n",
    "        if data['status'] == 'OK':\n",
    "            # Find the council or local government area in the address components\n",
    "            for component in data['results'][0]['address_components']:\n",
    "                if 'administrative_area_level_2' in component['types']:\n",
    "                    return component['long_name']\n",
    "            return \"Council not found\"\n",
    "        else:\n",
    "            return \"No results found\"\n",
    "    else:\n",
    "        return \"Failed to connect to the API\""
   ]
  },
  {
   "cell_type": "markdown",
   "id": "1b8d8049",
   "metadata": {
    "heading_collapsed": true,
    "hidden": true
   },
   "source": [
    "#### Dealing with missing values in the dataset"
   ]
  },
  {
   "cell_type": "code",
   "execution_count": 25,
   "id": "efa88fb7",
   "metadata": {
    "hidden": true
   },
   "outputs": [],
   "source": [
    "melb_data = melb_data.dropna(subset = ['Price'])"
   ]
  },
  {
   "cell_type": "code",
   "execution_count": 26,
   "id": "c199e619",
   "metadata": {
    "hidden": true
   },
   "outputs": [
    {
     "name": "stdout",
     "output_type": "stream",
     "text": [
      "            Suburb       Address  Rooms     Price       Date  Distance  \\\n",
      "29483  Fawkner Lot  1/3 Brian St      3  616000.0 2018-01-06       NaN   \n",
      "\n",
      "       Postcode  Bedrooms  Bathrooms  ParkingCars  Landsize  BuildingArea  \\\n",
      "29483      <NA>      <NA>       <NA>         <NA>       NaN           NaN   \n",
      "\n",
      "       YearBuilt CouncilArea  Latitude  Longitude Regionname  PropertyCount  \\\n",
      "29483       <NA>         NaN       NaN        NaN        NaN           <NA>   \n",
      "\n",
      "       House  Townhouse  Duplex  \n",
      "29483   True      False   False  \n"
     ]
    }
   ],
   "source": [
    "na_distance = melb_data[melb_data['Distance'].isna()]\n",
    "print(na_distance)"
   ]
  },
  {
   "cell_type": "code",
   "execution_count": 154,
   "id": "6be15e95",
   "metadata": {
    "hidden": true
   },
   "outputs": [
    {
     "name": "stderr",
     "output_type": "stream",
     "text": [
      "/var/folders/yw/4jpdvg_930bf7v2860107yfw0000gn/T/ipykernel_8333/3520423890.py:3: DeprecationWarning: Using 'method_whitelist' with Retry is deprecated and will be removed in v2.0. Use 'allowed_methods' instead\n",
      "  retry_strategy = Retry(\n"
     ]
    },
    {
     "name": "stdout",
     "output_type": "stream",
     "text": [
      "Coordinates: (-37.6949888, 144.9676573)\n"
     ]
    }
   ],
   "source": [
    "address = '1/3 Brian St, Fawkner Lot'\n",
    "coordinates = get_coordinates_from_address(address, api_key)\n",
    "print(\"Coordinates:\", coordinates)"
   ]
  },
  {
   "cell_type": "code",
   "execution_count": 27,
   "id": "41d604c5",
   "metadata": {
    "hidden": true
   },
   "outputs": [
    {
     "data": {
      "text/html": [
       "<div>\n",
       "<style scoped>\n",
       "    .dataframe tbody tr th:only-of-type {\n",
       "        vertical-align: middle;\n",
       "    }\n",
       "\n",
       "    .dataframe tbody tr th {\n",
       "        vertical-align: top;\n",
       "    }\n",
       "\n",
       "    .dataframe thead th {\n",
       "        text-align: right;\n",
       "    }\n",
       "</style>\n",
       "<table border=\"1\" class=\"dataframe\">\n",
       "  <thead>\n",
       "    <tr style=\"text-align: right;\">\n",
       "      <th></th>\n",
       "      <th>Suburb</th>\n",
       "      <th>Address</th>\n",
       "      <th>Rooms</th>\n",
       "      <th>Price</th>\n",
       "      <th>Date</th>\n",
       "      <th>Distance</th>\n",
       "      <th>Postcode</th>\n",
       "      <th>Bedrooms</th>\n",
       "      <th>Bathrooms</th>\n",
       "      <th>ParkingCars</th>\n",
       "      <th>Landsize</th>\n",
       "      <th>BuildingArea</th>\n",
       "      <th>YearBuilt</th>\n",
       "      <th>CouncilArea</th>\n",
       "      <th>Latitude</th>\n",
       "      <th>Longitude</th>\n",
       "      <th>Regionname</th>\n",
       "      <th>PropertyCount</th>\n",
       "      <th>House</th>\n",
       "      <th>Townhouse</th>\n",
       "      <th>Duplex</th>\n",
       "    </tr>\n",
       "  </thead>\n",
       "  <tbody>\n",
       "    <tr>\n",
       "      <th>29483</th>\n",
       "      <td>Fawkner Lot</td>\n",
       "      <td>1/3 Brian St</td>\n",
       "      <td>3</td>\n",
       "      <td>616000.0</td>\n",
       "      <td>2018-01-06</td>\n",
       "      <td>NaN</td>\n",
       "      <td>&lt;NA&gt;</td>\n",
       "      <td>&lt;NA&gt;</td>\n",
       "      <td>&lt;NA&gt;</td>\n",
       "      <td>&lt;NA&gt;</td>\n",
       "      <td>NaN</td>\n",
       "      <td>NaN</td>\n",
       "      <td>&lt;NA&gt;</td>\n",
       "      <td>NaN</td>\n",
       "      <td>NaN</td>\n",
       "      <td>NaN</td>\n",
       "      <td>NaN</td>\n",
       "      <td>&lt;NA&gt;</td>\n",
       "      <td>True</td>\n",
       "      <td>False</td>\n",
       "      <td>False</td>\n",
       "    </tr>\n",
       "  </tbody>\n",
       "</table>\n",
       "</div>"
      ],
      "text/plain": [
       "            Suburb       Address  Rooms     Price       Date  Distance  \\\n",
       "29483  Fawkner Lot  1/3 Brian St      3  616000.0 2018-01-06       NaN   \n",
       "\n",
       "       Postcode  Bedrooms  Bathrooms  ParkingCars  Landsize  BuildingArea  \\\n",
       "29483      <NA>      <NA>       <NA>         <NA>       NaN           NaN   \n",
       "\n",
       "       YearBuilt CouncilArea  Latitude  Longitude Regionname  PropertyCount  \\\n",
       "29483       <NA>         NaN       NaN        NaN        NaN           <NA>   \n",
       "\n",
       "       House  Townhouse  Duplex  \n",
       "29483   True      False   False  "
      ]
     },
     "execution_count": 27,
     "metadata": {},
     "output_type": "execute_result"
    }
   ],
   "source": [
    "melb_data[melb_data['Suburb'] == 'Fawkner Lot']"
   ]
  },
  {
   "cell_type": "code",
   "execution_count": 28,
   "id": "167f3256",
   "metadata": {
    "hidden": true
   },
   "outputs": [],
   "source": [
    "melb_data.loc[melb_data['Suburb'] == 'Fawkner Lot', 'Latitude'] = -37.6949888\n",
    "melb_data.loc[melb_data['Suburb'] == 'Fawkner Lot', 'Longitude'] = 144.9676573"
   ]
  },
  {
   "cell_type": "code",
   "execution_count": 29,
   "id": "b80cebe8",
   "metadata": {
    "hidden": true
   },
   "outputs": [],
   "source": [
    "# Fawkner's postcode is 3060\n",
    "melb_data.loc[melb_data['Suburb'] == 'Fawkner Lot', 'Postcode'] = 3060"
   ]
  },
  {
   "cell_type": "code",
   "execution_count": null,
   "id": "875022f0",
   "metadata": {},
   "outputs": [],
   "source": [
    "address = '1/3 Brian St, Fawkner Lot'\n",
    "council = find_council(address, api_key)\n",
    "print(\"Council:\", council)"
   ]
  },
  {
   "cell_type": "code",
   "execution_count": 159,
   "id": "f7d7a1bc",
   "metadata": {
    "hidden": true
   },
   "outputs": [],
   "source": [
    "melb_data.loc[melb_data['Suburb'] == 'Fawkner Lot', 'CouncilArea'] = 'City of Merri-bek'"
   ]
  },
  {
   "cell_type": "code",
   "execution_count": 160,
   "id": "79cc72e9",
   "metadata": {
    "hidden": true
   },
   "outputs": [],
   "source": [
    "melb_data.loc[melb_data['Suburb'] == 'Fawkner Lot', 'Regionname'] = 'Northern Metropolitan'"
   ]
  },
  {
   "cell_type": "code",
   "execution_count": 31,
   "id": "e6d0a5c3",
   "metadata": {
    "hidden": true
   },
   "outputs": [
    {
     "data": {
      "text/html": [
       "<div>\n",
       "<style scoped>\n",
       "    .dataframe tbody tr th:only-of-type {\n",
       "        vertical-align: middle;\n",
       "    }\n",
       "\n",
       "    .dataframe tbody tr th {\n",
       "        vertical-align: top;\n",
       "    }\n",
       "\n",
       "    .dataframe thead th {\n",
       "        text-align: right;\n",
       "    }\n",
       "</style>\n",
       "<table border=\"1\" class=\"dataframe\">\n",
       "  <thead>\n",
       "    <tr style=\"text-align: right;\">\n",
       "      <th></th>\n",
       "      <th>Suburb</th>\n",
       "      <th>Address</th>\n",
       "      <th>Rooms</th>\n",
       "      <th>Price</th>\n",
       "      <th>Date</th>\n",
       "      <th>Distance</th>\n",
       "      <th>Postcode</th>\n",
       "      <th>Bedrooms</th>\n",
       "      <th>Bathrooms</th>\n",
       "      <th>ParkingCars</th>\n",
       "      <th>Landsize</th>\n",
       "      <th>BuildingArea</th>\n",
       "      <th>YearBuilt</th>\n",
       "      <th>CouncilArea</th>\n",
       "      <th>Latitude</th>\n",
       "      <th>Longitude</th>\n",
       "      <th>Regionname</th>\n",
       "      <th>PropertyCount</th>\n",
       "      <th>House</th>\n",
       "      <th>Townhouse</th>\n",
       "      <th>Duplex</th>\n",
       "    </tr>\n",
       "  </thead>\n",
       "  <tbody>\n",
       "    <tr>\n",
       "      <th>18523</th>\n",
       "      <td>Footscray</td>\n",
       "      <td>2/16 Stafford St</td>\n",
       "      <td>2</td>\n",
       "      <td>710000.0</td>\n",
       "      <td>2017-07-15</td>\n",
       "      <td>5.1</td>\n",
       "      <td>3011</td>\n",
       "      <td>&lt;NA&gt;</td>\n",
       "      <td>&lt;NA&gt;</td>\n",
       "      <td>&lt;NA&gt;</td>\n",
       "      <td>NaN</td>\n",
       "      <td>NaN</td>\n",
       "      <td>&lt;NA&gt;</td>\n",
       "      <td>NaN</td>\n",
       "      <td>NaN</td>\n",
       "      <td>NaN</td>\n",
       "      <td>NaN</td>\n",
       "      <td>&lt;NA&gt;</td>\n",
       "      <td>False</td>\n",
       "      <td>False</td>\n",
       "      <td>True</td>\n",
       "    </tr>\n",
       "    <tr>\n",
       "      <th>26888</th>\n",
       "      <td>Camberwell</td>\n",
       "      <td>2/3 Kingsley St</td>\n",
       "      <td>2</td>\n",
       "      <td>825000.0</td>\n",
       "      <td>2017-11-11</td>\n",
       "      <td>7.7</td>\n",
       "      <td>3124</td>\n",
       "      <td>&lt;NA&gt;</td>\n",
       "      <td>&lt;NA&gt;</td>\n",
       "      <td>&lt;NA&gt;</td>\n",
       "      <td>NaN</td>\n",
       "      <td>NaN</td>\n",
       "      <td>&lt;NA&gt;</td>\n",
       "      <td>NaN</td>\n",
       "      <td>NaN</td>\n",
       "      <td>NaN</td>\n",
       "      <td>NaN</td>\n",
       "      <td>&lt;NA&gt;</td>\n",
       "      <td>True</td>\n",
       "      <td>False</td>\n",
       "      <td>False</td>\n",
       "    </tr>\n",
       "    <tr>\n",
       "      <th>29483</th>\n",
       "      <td>Fawkner Lot</td>\n",
       "      <td>1/3 Brian St</td>\n",
       "      <td>3</td>\n",
       "      <td>616000.0</td>\n",
       "      <td>2018-01-06</td>\n",
       "      <td>NaN</td>\n",
       "      <td>3060</td>\n",
       "      <td>&lt;NA&gt;</td>\n",
       "      <td>&lt;NA&gt;</td>\n",
       "      <td>&lt;NA&gt;</td>\n",
       "      <td>NaN</td>\n",
       "      <td>NaN</td>\n",
       "      <td>&lt;NA&gt;</td>\n",
       "      <td>NaN</td>\n",
       "      <td>-37.694989</td>\n",
       "      <td>144.967657</td>\n",
       "      <td>NaN</td>\n",
       "      <td>&lt;NA&gt;</td>\n",
       "      <td>True</td>\n",
       "      <td>False</td>\n",
       "      <td>False</td>\n",
       "    </tr>\n",
       "  </tbody>\n",
       "</table>\n",
       "</div>"
      ],
      "text/plain": [
       "            Suburb           Address  Rooms     Price       Date  Distance  \\\n",
       "18523    Footscray  2/16 Stafford St      2  710000.0 2017-07-15       5.1   \n",
       "26888   Camberwell   2/3 Kingsley St      2  825000.0 2017-11-11       7.7   \n",
       "29483  Fawkner Lot      1/3 Brian St      3  616000.0 2018-01-06       NaN   \n",
       "\n",
       "       Postcode  Bedrooms  Bathrooms  ParkingCars  Landsize  BuildingArea  \\\n",
       "18523      3011      <NA>       <NA>         <NA>       NaN           NaN   \n",
       "26888      3124      <NA>       <NA>         <NA>       NaN           NaN   \n",
       "29483      3060      <NA>       <NA>         <NA>       NaN           NaN   \n",
       "\n",
       "       YearBuilt CouncilArea   Latitude   Longitude Regionname  PropertyCount  \\\n",
       "18523       <NA>         NaN        NaN         NaN        NaN           <NA>   \n",
       "26888       <NA>         NaN        NaN         NaN        NaN           <NA>   \n",
       "29483       <NA>         NaN -37.694989  144.967657        NaN           <NA>   \n",
       "\n",
       "       House  Townhouse  Duplex  \n",
       "18523  False      False    True  \n",
       "26888   True      False   False  \n",
       "29483   True      False   False  "
      ]
     },
     "execution_count": 31,
     "metadata": {},
     "output_type": "execute_result"
    }
   ],
   "source": [
    "melb_data[melb_data['CouncilArea'].isna()]"
   ]
  },
  {
   "cell_type": "code",
   "execution_count": 162,
   "id": "ee56276a",
   "metadata": {
    "hidden": true
   },
   "outputs": [
    {
     "data": {
      "text/html": [
       "<div>\n",
       "<style scoped>\n",
       "    .dataframe tbody tr th:only-of-type {\n",
       "        vertical-align: middle;\n",
       "    }\n",
       "\n",
       "    .dataframe tbody tr th {\n",
       "        vertical-align: top;\n",
       "    }\n",
       "\n",
       "    .dataframe thead th {\n",
       "        text-align: right;\n",
       "    }\n",
       "</style>\n",
       "<table border=\"1\" class=\"dataframe\">\n",
       "  <thead>\n",
       "    <tr style=\"text-align: right;\">\n",
       "      <th></th>\n",
       "      <th>Suburb</th>\n",
       "      <th>Address</th>\n",
       "      <th>Rooms</th>\n",
       "      <th>Price</th>\n",
       "      <th>Date</th>\n",
       "      <th>Distance</th>\n",
       "      <th>Postcode</th>\n",
       "      <th>Bedrooms</th>\n",
       "      <th>Bathrooms</th>\n",
       "      <th>ParkingCars</th>\n",
       "      <th>Landsize</th>\n",
       "      <th>BuildingArea</th>\n",
       "      <th>YearBuilt</th>\n",
       "      <th>CouncilArea</th>\n",
       "      <th>Latitude</th>\n",
       "      <th>Longitude</th>\n",
       "      <th>Regionname</th>\n",
       "      <th>PropertyCount</th>\n",
       "      <th>House</th>\n",
       "      <th>Townhouse</th>\n",
       "      <th>Duplex</th>\n",
       "    </tr>\n",
       "  </thead>\n",
       "  <tbody>\n",
       "    <tr>\n",
       "      <th>4377</th>\n",
       "      <td>Footscray</td>\n",
       "      <td>4/33 Ballarat Rd</td>\n",
       "      <td>3</td>\n",
       "      <td>585000.000</td>\n",
       "      <td>2016-03-09</td>\n",
       "      <td>6.400</td>\n",
       "      <td>3011</td>\n",
       "      <td>3</td>\n",
       "      <td>1</td>\n",
       "      <td>1</td>\n",
       "      <td>259.000</td>\n",
       "      <td>NaN</td>\n",
       "      <td>&lt;NA&gt;</td>\n",
       "      <td>Maribyrnong City Council</td>\n",
       "      <td>-37.795</td>\n",
       "      <td>144.906</td>\n",
       "      <td>Western Metropolitan</td>\n",
       "      <td>7570</td>\n",
       "      <td>0</td>\n",
       "      <td>1</td>\n",
       "      <td>0</td>\n",
       "    </tr>\n",
       "    <tr>\n",
       "      <th>4378</th>\n",
       "      <td>Footscray</td>\n",
       "      <td>202/51 Gordon St</td>\n",
       "      <td>1</td>\n",
       "      <td>85000.000</td>\n",
       "      <td>2016-03-09</td>\n",
       "      <td>6.400</td>\n",
       "      <td>3011</td>\n",
       "      <td>1</td>\n",
       "      <td>1</td>\n",
       "      <td>0</td>\n",
       "      <td>0.000</td>\n",
       "      <td>NaN</td>\n",
       "      <td>2007</td>\n",
       "      <td>Maribyrnong City Council</td>\n",
       "      <td>-37.791</td>\n",
       "      <td>144.890</td>\n",
       "      <td>Western Metropolitan</td>\n",
       "      <td>7570</td>\n",
       "      <td>0</td>\n",
       "      <td>0</td>\n",
       "      <td>1</td>\n",
       "    </tr>\n",
       "    <tr>\n",
       "      <th>4379</th>\n",
       "      <td>Footscray</td>\n",
       "      <td>4 Adelaide St</td>\n",
       "      <td>4</td>\n",
       "      <td>1225000.000</td>\n",
       "      <td>2016-03-12</td>\n",
       "      <td>6.400</td>\n",
       "      <td>3011</td>\n",
       "      <td>4</td>\n",
       "      <td>2</td>\n",
       "      <td>1</td>\n",
       "      <td>319.000</td>\n",
       "      <td>130.000</td>\n",
       "      <td>1915</td>\n",
       "      <td>Maribyrnong City Council</td>\n",
       "      <td>-37.794</td>\n",
       "      <td>144.887</td>\n",
       "      <td>Western Metropolitan</td>\n",
       "      <td>7570</td>\n",
       "      <td>1</td>\n",
       "      <td>0</td>\n",
       "      <td>0</td>\n",
       "    </tr>\n",
       "    <tr>\n",
       "      <th>4380</th>\n",
       "      <td>Footscray</td>\n",
       "      <td>11/44 Everard St</td>\n",
       "      <td>2</td>\n",
       "      <td>431000.000</td>\n",
       "      <td>2016-03-12</td>\n",
       "      <td>6.400</td>\n",
       "      <td>3011</td>\n",
       "      <td>2</td>\n",
       "      <td>1</td>\n",
       "      <td>1</td>\n",
       "      <td>0.000</td>\n",
       "      <td>NaN</td>\n",
       "      <td>&lt;NA&gt;</td>\n",
       "      <td>Maribyrnong City Council</td>\n",
       "      <td>-37.796</td>\n",
       "      <td>144.885</td>\n",
       "      <td>Western Metropolitan</td>\n",
       "      <td>7570</td>\n",
       "      <td>0</td>\n",
       "      <td>0</td>\n",
       "      <td>1</td>\n",
       "    </tr>\n",
       "    <tr>\n",
       "      <th>4381</th>\n",
       "      <td>Footscray</td>\n",
       "      <td>9 Lynch St</td>\n",
       "      <td>3</td>\n",
       "      <td>1003000.000</td>\n",
       "      <td>2016-03-12</td>\n",
       "      <td>6.400</td>\n",
       "      <td>3011</td>\n",
       "      <td>3</td>\n",
       "      <td>1</td>\n",
       "      <td>1</td>\n",
       "      <td>292.000</td>\n",
       "      <td>98.000</td>\n",
       "      <td>1900</td>\n",
       "      <td>Maribyrnong City Council</td>\n",
       "      <td>-37.797</td>\n",
       "      <td>144.905</td>\n",
       "      <td>Western Metropolitan</td>\n",
       "      <td>7570</td>\n",
       "      <td>1</td>\n",
       "      <td>0</td>\n",
       "      <td>0</td>\n",
       "    </tr>\n",
       "    <tr>\n",
       "      <th>...</th>\n",
       "      <td>...</td>\n",
       "      <td>...</td>\n",
       "      <td>...</td>\n",
       "      <td>...</td>\n",
       "      <td>...</td>\n",
       "      <td>...</td>\n",
       "      <td>...</td>\n",
       "      <td>...</td>\n",
       "      <td>...</td>\n",
       "      <td>...</td>\n",
       "      <td>...</td>\n",
       "      <td>...</td>\n",
       "      <td>...</td>\n",
       "      <td>...</td>\n",
       "      <td>...</td>\n",
       "      <td>...</td>\n",
       "      <td>...</td>\n",
       "      <td>...</td>\n",
       "      <td>...</td>\n",
       "      <td>...</td>\n",
       "      <td>...</td>\n",
       "    </tr>\n",
       "    <tr>\n",
       "      <th>34253</th>\n",
       "      <td>Footscray</td>\n",
       "      <td>105 Eleanor St</td>\n",
       "      <td>3</td>\n",
       "      <td>945000.000</td>\n",
       "      <td>2018-02-24</td>\n",
       "      <td>5.100</td>\n",
       "      <td>3011</td>\n",
       "      <td>3</td>\n",
       "      <td>1</td>\n",
       "      <td>0</td>\n",
       "      <td>219.000</td>\n",
       "      <td>107.000</td>\n",
       "      <td>1900</td>\n",
       "      <td>Maribyrnong City Council</td>\n",
       "      <td>-37.797</td>\n",
       "      <td>144.885</td>\n",
       "      <td>Western Metropolitan</td>\n",
       "      <td>7570</td>\n",
       "      <td>1</td>\n",
       "      <td>0</td>\n",
       "      <td>0</td>\n",
       "    </tr>\n",
       "    <tr>\n",
       "      <th>34254</th>\n",
       "      <td>Footscray</td>\n",
       "      <td>4/5 Gordon St</td>\n",
       "      <td>2</td>\n",
       "      <td>375500.000</td>\n",
       "      <td>2018-02-24</td>\n",
       "      <td>5.100</td>\n",
       "      <td>3011</td>\n",
       "      <td>&lt;NA&gt;</td>\n",
       "      <td>&lt;NA&gt;</td>\n",
       "      <td>&lt;NA&gt;</td>\n",
       "      <td>NaN</td>\n",
       "      <td>NaN</td>\n",
       "      <td>&lt;NA&gt;</td>\n",
       "      <td>Maribyrnong City Council</td>\n",
       "      <td>NaN</td>\n",
       "      <td>NaN</td>\n",
       "      <td>Western Metropolitan</td>\n",
       "      <td>7570</td>\n",
       "      <td>0</td>\n",
       "      <td>0</td>\n",
       "      <td>1</td>\n",
       "    </tr>\n",
       "    <tr>\n",
       "      <th>34255</th>\n",
       "      <td>Footscray</td>\n",
       "      <td>11/49 Hyde St</td>\n",
       "      <td>2</td>\n",
       "      <td>450000.000</td>\n",
       "      <td>2018-02-24</td>\n",
       "      <td>5.100</td>\n",
       "      <td>3011</td>\n",
       "      <td>&lt;NA&gt;</td>\n",
       "      <td>&lt;NA&gt;</td>\n",
       "      <td>&lt;NA&gt;</td>\n",
       "      <td>NaN</td>\n",
       "      <td>NaN</td>\n",
       "      <td>&lt;NA&gt;</td>\n",
       "      <td>Maribyrnong City Council</td>\n",
       "      <td>NaN</td>\n",
       "      <td>NaN</td>\n",
       "      <td>Western Metropolitan</td>\n",
       "      <td>7570</td>\n",
       "      <td>0</td>\n",
       "      <td>0</td>\n",
       "      <td>1</td>\n",
       "    </tr>\n",
       "    <tr>\n",
       "      <th>34256</th>\n",
       "      <td>Footscray</td>\n",
       "      <td>2/1 Leander St</td>\n",
       "      <td>2</td>\n",
       "      <td>660000.000</td>\n",
       "      <td>2018-02-24</td>\n",
       "      <td>5.100</td>\n",
       "      <td>3011</td>\n",
       "      <td>&lt;NA&gt;</td>\n",
       "      <td>&lt;NA&gt;</td>\n",
       "      <td>&lt;NA&gt;</td>\n",
       "      <td>NaN</td>\n",
       "      <td>NaN</td>\n",
       "      <td>&lt;NA&gt;</td>\n",
       "      <td>Maribyrnong City Council</td>\n",
       "      <td>NaN</td>\n",
       "      <td>NaN</td>\n",
       "      <td>Western Metropolitan</td>\n",
       "      <td>7570</td>\n",
       "      <td>0</td>\n",
       "      <td>1</td>\n",
       "      <td>0</td>\n",
       "    </tr>\n",
       "    <tr>\n",
       "      <th>34257</th>\n",
       "      <td>Footscray</td>\n",
       "      <td>21 Stafford St</td>\n",
       "      <td>3</td>\n",
       "      <td>931000.000</td>\n",
       "      <td>2018-02-24</td>\n",
       "      <td>5.100</td>\n",
       "      <td>3011</td>\n",
       "      <td>3</td>\n",
       "      <td>1</td>\n",
       "      <td>0</td>\n",
       "      <td>240.000</td>\n",
       "      <td>101.000</td>\n",
       "      <td>1930</td>\n",
       "      <td>Maribyrnong City Council</td>\n",
       "      <td>-37.794</td>\n",
       "      <td>144.884</td>\n",
       "      <td>Western Metropolitan</td>\n",
       "      <td>7570</td>\n",
       "      <td>1</td>\n",
       "      <td>0</td>\n",
       "      <td>0</td>\n",
       "    </tr>\n",
       "  </tbody>\n",
       "</table>\n",
       "<p>263 rows × 21 columns</p>\n",
       "</div>"
      ],
      "text/plain": [
       "          Suburb           Address  Rooms       Price       Date  Distance  \\\n",
       "4377   Footscray  4/33 Ballarat Rd      3  585000.000 2016-03-09     6.400   \n",
       "4378   Footscray  202/51 Gordon St      1   85000.000 2016-03-09     6.400   \n",
       "4379   Footscray     4 Adelaide St      4 1225000.000 2016-03-12     6.400   \n",
       "4380   Footscray  11/44 Everard St      2  431000.000 2016-03-12     6.400   \n",
       "4381   Footscray        9 Lynch St      3 1003000.000 2016-03-12     6.400   \n",
       "...          ...               ...    ...         ...        ...       ...   \n",
       "34253  Footscray    105 Eleanor St      3  945000.000 2018-02-24     5.100   \n",
       "34254  Footscray     4/5 Gordon St      2  375500.000 2018-02-24     5.100   \n",
       "34255  Footscray     11/49 Hyde St      2  450000.000 2018-02-24     5.100   \n",
       "34256  Footscray    2/1 Leander St      2  660000.000 2018-02-24     5.100   \n",
       "34257  Footscray    21 Stafford St      3  931000.000 2018-02-24     5.100   \n",
       "\n",
       "       Postcode  Bedrooms  Bathrooms  ParkingCars  Landsize  BuildingArea  \\\n",
       "4377       3011         3          1            1   259.000           NaN   \n",
       "4378       3011         1          1            0     0.000           NaN   \n",
       "4379       3011         4          2            1   319.000       130.000   \n",
       "4380       3011         2          1            1     0.000           NaN   \n",
       "4381       3011         3          1            1   292.000        98.000   \n",
       "...         ...       ...        ...          ...       ...           ...   \n",
       "34253      3011         3          1            0   219.000       107.000   \n",
       "34254      3011      <NA>       <NA>         <NA>       NaN           NaN   \n",
       "34255      3011      <NA>       <NA>         <NA>       NaN           NaN   \n",
       "34256      3011      <NA>       <NA>         <NA>       NaN           NaN   \n",
       "34257      3011         3          1            0   240.000       101.000   \n",
       "\n",
       "       YearBuilt               CouncilArea  Latitude  Longitude  \\\n",
       "4377        <NA>  Maribyrnong City Council   -37.795    144.906   \n",
       "4378        2007  Maribyrnong City Council   -37.791    144.890   \n",
       "4379        1915  Maribyrnong City Council   -37.794    144.887   \n",
       "4380        <NA>  Maribyrnong City Council   -37.796    144.885   \n",
       "4381        1900  Maribyrnong City Council   -37.797    144.905   \n",
       "...          ...                       ...       ...        ...   \n",
       "34253       1900  Maribyrnong City Council   -37.797    144.885   \n",
       "34254       <NA>  Maribyrnong City Council       NaN        NaN   \n",
       "34255       <NA>  Maribyrnong City Council       NaN        NaN   \n",
       "34256       <NA>  Maribyrnong City Council       NaN        NaN   \n",
       "34257       1930  Maribyrnong City Council   -37.794    144.884   \n",
       "\n",
       "                 Regionname  PropertyCount  House  Townhouse  Duplex  \n",
       "4377   Western Metropolitan           7570      0          1       0  \n",
       "4378   Western Metropolitan           7570      0          0       1  \n",
       "4379   Western Metropolitan           7570      1          0       0  \n",
       "4380   Western Metropolitan           7570      0          0       1  \n",
       "4381   Western Metropolitan           7570      1          0       0  \n",
       "...                     ...            ...    ...        ...     ...  \n",
       "34253  Western Metropolitan           7570      1          0       0  \n",
       "34254  Western Metropolitan           7570      0          0       1  \n",
       "34255  Western Metropolitan           7570      0          0       1  \n",
       "34256  Western Metropolitan           7570      0          1       0  \n",
       "34257  Western Metropolitan           7570      1          0       0  \n",
       "\n",
       "[263 rows x 21 columns]"
      ]
     },
     "execution_count": 162,
     "metadata": {},
     "output_type": "execute_result"
    }
   ],
   "source": [
    "melb_data[melb_data['Suburb'] == 'Footscray']"
   ]
  },
  {
   "cell_type": "code",
   "execution_count": 163,
   "id": "c4659957",
   "metadata": {
    "hidden": true
   },
   "outputs": [],
   "source": [
    "# Replace the 'NA' at index 18523\n",
    "melb_data.loc[18523, 'CouncilArea'] = 'Maribyrnong City Council'\n",
    "melb_data.loc[18523, 'Regionname'] = 'Western Metropolitan'\n",
    "melb_data.loc[18523, 'PropertyCount'] = 7570"
   ]
  },
  {
   "cell_type": "code",
   "execution_count": 164,
   "id": "416ec321",
   "metadata": {
    "hidden": true
   },
   "outputs": [
    {
     "data": {
      "text/html": [
       "<div>\n",
       "<style scoped>\n",
       "    .dataframe tbody tr th:only-of-type {\n",
       "        vertical-align: middle;\n",
       "    }\n",
       "\n",
       "    .dataframe tbody tr th {\n",
       "        vertical-align: top;\n",
       "    }\n",
       "\n",
       "    .dataframe thead th {\n",
       "        text-align: right;\n",
       "    }\n",
       "</style>\n",
       "<table border=\"1\" class=\"dataframe\">\n",
       "  <thead>\n",
       "    <tr style=\"text-align: right;\">\n",
       "      <th></th>\n",
       "      <th>Suburb</th>\n",
       "      <th>Address</th>\n",
       "      <th>Rooms</th>\n",
       "      <th>Price</th>\n",
       "      <th>Date</th>\n",
       "      <th>Distance</th>\n",
       "      <th>Postcode</th>\n",
       "      <th>Bedrooms</th>\n",
       "      <th>Bathrooms</th>\n",
       "      <th>ParkingCars</th>\n",
       "      <th>Landsize</th>\n",
       "      <th>BuildingArea</th>\n",
       "      <th>YearBuilt</th>\n",
       "      <th>CouncilArea</th>\n",
       "      <th>Latitude</th>\n",
       "      <th>Longitude</th>\n",
       "      <th>Regionname</th>\n",
       "      <th>PropertyCount</th>\n",
       "      <th>House</th>\n",
       "      <th>Townhouse</th>\n",
       "      <th>Duplex</th>\n",
       "    </tr>\n",
       "  </thead>\n",
       "  <tbody>\n",
       "    <tr>\n",
       "      <th>2618</th>\n",
       "      <td>Camberwell</td>\n",
       "      <td>28 Brinsley Rd</td>\n",
       "      <td>4</td>\n",
       "      <td>2650000.000</td>\n",
       "      <td>2016-03-09</td>\n",
       "      <td>7.800</td>\n",
       "      <td>3124</td>\n",
       "      <td>4</td>\n",
       "      <td>2</td>\n",
       "      <td>1</td>\n",
       "      <td>652.000</td>\n",
       "      <td>189.000</td>\n",
       "      <td>1890</td>\n",
       "      <td>Boroondara City Council</td>\n",
       "      <td>-37.829</td>\n",
       "      <td>145.069</td>\n",
       "      <td>Southern Metropolitan</td>\n",
       "      <td>8920</td>\n",
       "      <td>1</td>\n",
       "      <td>0</td>\n",
       "      <td>0</td>\n",
       "    </tr>\n",
       "    <tr>\n",
       "      <th>2619</th>\n",
       "      <td>Camberwell</td>\n",
       "      <td>2/1 Glen Iris Rd</td>\n",
       "      <td>3</td>\n",
       "      <td>1615000.000</td>\n",
       "      <td>2016-03-09</td>\n",
       "      <td>7.800</td>\n",
       "      <td>3124</td>\n",
       "      <td>3</td>\n",
       "      <td>1</td>\n",
       "      <td>2</td>\n",
       "      <td>389.000</td>\n",
       "      <td>NaN</td>\n",
       "      <td>&lt;NA&gt;</td>\n",
       "      <td>Boroondara City Council</td>\n",
       "      <td>-37.843</td>\n",
       "      <td>145.070</td>\n",
       "      <td>Southern Metropolitan</td>\n",
       "      <td>8920</td>\n",
       "      <td>0</td>\n",
       "      <td>1</td>\n",
       "      <td>0</td>\n",
       "    </tr>\n",
       "    <tr>\n",
       "      <th>2620</th>\n",
       "      <td>Camberwell</td>\n",
       "      <td>6 Kalang Rd</td>\n",
       "      <td>3</td>\n",
       "      <td>NaN</td>\n",
       "      <td>2016-03-09</td>\n",
       "      <td>7.800</td>\n",
       "      <td>3124</td>\n",
       "      <td>3</td>\n",
       "      <td>1</td>\n",
       "      <td>1</td>\n",
       "      <td>980.000</td>\n",
       "      <td>154.000</td>\n",
       "      <td>1930</td>\n",
       "      <td>Boroondara City Council</td>\n",
       "      <td>-37.844</td>\n",
       "      <td>145.077</td>\n",
       "      <td>Southern Metropolitan</td>\n",
       "      <td>8920</td>\n",
       "      <td>1</td>\n",
       "      <td>0</td>\n",
       "      <td>0</td>\n",
       "    </tr>\n",
       "    <tr>\n",
       "      <th>2621</th>\n",
       "      <td>Camberwell</td>\n",
       "      <td>1288 Toorak Rd</td>\n",
       "      <td>4</td>\n",
       "      <td>3225000.000</td>\n",
       "      <td>2016-03-09</td>\n",
       "      <td>7.800</td>\n",
       "      <td>3124</td>\n",
       "      <td>4</td>\n",
       "      <td>3</td>\n",
       "      <td>2</td>\n",
       "      <td>934.000</td>\n",
       "      <td>NaN</td>\n",
       "      <td>&lt;NA&gt;</td>\n",
       "      <td>Boroondara City Council</td>\n",
       "      <td>-37.850</td>\n",
       "      <td>145.087</td>\n",
       "      <td>Southern Metropolitan</td>\n",
       "      <td>8920</td>\n",
       "      <td>1</td>\n",
       "      <td>0</td>\n",
       "      <td>0</td>\n",
       "    </tr>\n",
       "    <tr>\n",
       "      <th>2622</th>\n",
       "      <td>Camberwell</td>\n",
       "      <td>1/19 Alma Rd</td>\n",
       "      <td>3</td>\n",
       "      <td>NaN</td>\n",
       "      <td>2016-03-12</td>\n",
       "      <td>7.800</td>\n",
       "      <td>3124</td>\n",
       "      <td>3</td>\n",
       "      <td>2</td>\n",
       "      <td>2</td>\n",
       "      <td>332.000</td>\n",
       "      <td>NaN</td>\n",
       "      <td>1995</td>\n",
       "      <td>Boroondara City Council</td>\n",
       "      <td>-37.837</td>\n",
       "      <td>145.059</td>\n",
       "      <td>Southern Metropolitan</td>\n",
       "      <td>8920</td>\n",
       "      <td>1</td>\n",
       "      <td>0</td>\n",
       "      <td>0</td>\n",
       "    </tr>\n",
       "    <tr>\n",
       "      <th>...</th>\n",
       "      <td>...</td>\n",
       "      <td>...</td>\n",
       "      <td>...</td>\n",
       "      <td>...</td>\n",
       "      <td>...</td>\n",
       "      <td>...</td>\n",
       "      <td>...</td>\n",
       "      <td>...</td>\n",
       "      <td>...</td>\n",
       "      <td>...</td>\n",
       "      <td>...</td>\n",
       "      <td>...</td>\n",
       "      <td>...</td>\n",
       "      <td>...</td>\n",
       "      <td>...</td>\n",
       "      <td>...</td>\n",
       "      <td>...</td>\n",
       "      <td>...</td>\n",
       "      <td>...</td>\n",
       "      <td>...</td>\n",
       "      <td>...</td>\n",
       "    </tr>\n",
       "    <tr>\n",
       "      <th>34080</th>\n",
       "      <td>Camberwell</td>\n",
       "      <td>29 Oxford St</td>\n",
       "      <td>3</td>\n",
       "      <td>1888000.000</td>\n",
       "      <td>2018-02-24</td>\n",
       "      <td>7.700</td>\n",
       "      <td>3124</td>\n",
       "      <td>3</td>\n",
       "      <td>1</td>\n",
       "      <td>2</td>\n",
       "      <td>770.000</td>\n",
       "      <td>NaN</td>\n",
       "      <td>&lt;NA&gt;</td>\n",
       "      <td>Boroondara City Council</td>\n",
       "      <td>-37.845</td>\n",
       "      <td>145.093</td>\n",
       "      <td>Southern Metropolitan</td>\n",
       "      <td>8920</td>\n",
       "      <td>1</td>\n",
       "      <td>0</td>\n",
       "      <td>0</td>\n",
       "    </tr>\n",
       "    <tr>\n",
       "      <th>34081</th>\n",
       "      <td>Camberwell</td>\n",
       "      <td>23 Radnor St</td>\n",
       "      <td>3</td>\n",
       "      <td>NaN</td>\n",
       "      <td>2018-02-24</td>\n",
       "      <td>7.700</td>\n",
       "      <td>3124</td>\n",
       "      <td>3</td>\n",
       "      <td>2</td>\n",
       "      <td>2</td>\n",
       "      <td>597.000</td>\n",
       "      <td>176.000</td>\n",
       "      <td>1915</td>\n",
       "      <td>Boroondara City Council</td>\n",
       "      <td>-37.841</td>\n",
       "      <td>145.062</td>\n",
       "      <td>Southern Metropolitan</td>\n",
       "      <td>8920</td>\n",
       "      <td>1</td>\n",
       "      <td>0</td>\n",
       "      <td>0</td>\n",
       "    </tr>\n",
       "    <tr>\n",
       "      <th>34082</th>\n",
       "      <td>Camberwell</td>\n",
       "      <td>674 Riversdale Rd</td>\n",
       "      <td>3</td>\n",
       "      <td>NaN</td>\n",
       "      <td>2018-02-24</td>\n",
       "      <td>7.700</td>\n",
       "      <td>3124</td>\n",
       "      <td>3</td>\n",
       "      <td>1</td>\n",
       "      <td>2</td>\n",
       "      <td>675.000</td>\n",
       "      <td>155.000</td>\n",
       "      <td>1940</td>\n",
       "      <td>Boroondara City Council</td>\n",
       "      <td>-37.833</td>\n",
       "      <td>145.072</td>\n",
       "      <td>Southern Metropolitan</td>\n",
       "      <td>8920</td>\n",
       "      <td>1</td>\n",
       "      <td>0</td>\n",
       "      <td>0</td>\n",
       "    </tr>\n",
       "    <tr>\n",
       "      <th>34083</th>\n",
       "      <td>Camberwell</td>\n",
       "      <td>1088 Toorak Rd</td>\n",
       "      <td>3</td>\n",
       "      <td>NaN</td>\n",
       "      <td>2018-02-24</td>\n",
       "      <td>7.700</td>\n",
       "      <td>3124</td>\n",
       "      <td>3</td>\n",
       "      <td>1</td>\n",
       "      <td>1</td>\n",
       "      <td>647.000</td>\n",
       "      <td>0.000</td>\n",
       "      <td>&lt;NA&gt;</td>\n",
       "      <td>Boroondara City Council</td>\n",
       "      <td>-37.848</td>\n",
       "      <td>145.074</td>\n",
       "      <td>Southern Metropolitan</td>\n",
       "      <td>8920</td>\n",
       "      <td>1</td>\n",
       "      <td>0</td>\n",
       "      <td>0</td>\n",
       "    </tr>\n",
       "    <tr>\n",
       "      <th>34084</th>\n",
       "      <td>Camberwell</td>\n",
       "      <td>2 Weafgreen Ct</td>\n",
       "      <td>5</td>\n",
       "      <td>2650000.000</td>\n",
       "      <td>2018-02-24</td>\n",
       "      <td>7.700</td>\n",
       "      <td>3124</td>\n",
       "      <td>5</td>\n",
       "      <td>3</td>\n",
       "      <td>6</td>\n",
       "      <td>677.000</td>\n",
       "      <td>242.000</td>\n",
       "      <td>1950</td>\n",
       "      <td>Boroondara City Council</td>\n",
       "      <td>-37.837</td>\n",
       "      <td>145.092</td>\n",
       "      <td>Southern Metropolitan</td>\n",
       "      <td>8920</td>\n",
       "      <td>1</td>\n",
       "      <td>0</td>\n",
       "      <td>0</td>\n",
       "    </tr>\n",
       "  </tbody>\n",
       "</table>\n",
       "<p>423 rows × 21 columns</p>\n",
       "</div>"
      ],
      "text/plain": [
       "           Suburb            Address  Rooms       Price       Date  Distance  \\\n",
       "2618   Camberwell     28 Brinsley Rd      4 2650000.000 2016-03-09     7.800   \n",
       "2619   Camberwell   2/1 Glen Iris Rd      3 1615000.000 2016-03-09     7.800   \n",
       "2620   Camberwell        6 Kalang Rd      3         NaN 2016-03-09     7.800   \n",
       "2621   Camberwell     1288 Toorak Rd      4 3225000.000 2016-03-09     7.800   \n",
       "2622   Camberwell       1/19 Alma Rd      3         NaN 2016-03-12     7.800   \n",
       "...           ...                ...    ...         ...        ...       ...   \n",
       "34080  Camberwell       29 Oxford St      3 1888000.000 2018-02-24     7.700   \n",
       "34081  Camberwell       23 Radnor St      3         NaN 2018-02-24     7.700   \n",
       "34082  Camberwell  674 Riversdale Rd      3         NaN 2018-02-24     7.700   \n",
       "34083  Camberwell     1088 Toorak Rd      3         NaN 2018-02-24     7.700   \n",
       "34084  Camberwell     2 Weafgreen Ct      5 2650000.000 2018-02-24     7.700   \n",
       "\n",
       "       Postcode  Bedrooms  Bathrooms  ParkingCars  Landsize  BuildingArea  \\\n",
       "2618       3124         4          2            1   652.000       189.000   \n",
       "2619       3124         3          1            2   389.000           NaN   \n",
       "2620       3124         3          1            1   980.000       154.000   \n",
       "2621       3124         4          3            2   934.000           NaN   \n",
       "2622       3124         3          2            2   332.000           NaN   \n",
       "...         ...       ...        ...          ...       ...           ...   \n",
       "34080      3124         3          1            2   770.000           NaN   \n",
       "34081      3124         3          2            2   597.000       176.000   \n",
       "34082      3124         3          1            2   675.000       155.000   \n",
       "34083      3124         3          1            1   647.000         0.000   \n",
       "34084      3124         5          3            6   677.000       242.000   \n",
       "\n",
       "       YearBuilt              CouncilArea  Latitude  Longitude  \\\n",
       "2618        1890  Boroondara City Council   -37.829    145.069   \n",
       "2619        <NA>  Boroondara City Council   -37.843    145.070   \n",
       "2620        1930  Boroondara City Council   -37.844    145.077   \n",
       "2621        <NA>  Boroondara City Council   -37.850    145.087   \n",
       "2622        1995  Boroondara City Council   -37.837    145.059   \n",
       "...          ...                      ...       ...        ...   \n",
       "34080       <NA>  Boroondara City Council   -37.845    145.093   \n",
       "34081       1915  Boroondara City Council   -37.841    145.062   \n",
       "34082       1940  Boroondara City Council   -37.833    145.072   \n",
       "34083       <NA>  Boroondara City Council   -37.848    145.074   \n",
       "34084       1950  Boroondara City Council   -37.837    145.092   \n",
       "\n",
       "                  Regionname  PropertyCount  House  Townhouse  Duplex  \n",
       "2618   Southern Metropolitan           8920      1          0       0  \n",
       "2619   Southern Metropolitan           8920      0          1       0  \n",
       "2620   Southern Metropolitan           8920      1          0       0  \n",
       "2621   Southern Metropolitan           8920      1          0       0  \n",
       "2622   Southern Metropolitan           8920      1          0       0  \n",
       "...                      ...            ...    ...        ...     ...  \n",
       "34080  Southern Metropolitan           8920      1          0       0  \n",
       "34081  Southern Metropolitan           8920      1          0       0  \n",
       "34082  Southern Metropolitan           8920      1          0       0  \n",
       "34083  Southern Metropolitan           8920      1          0       0  \n",
       "34084  Southern Metropolitan           8920      1          0       0  \n",
       "\n",
       "[423 rows x 21 columns]"
      ]
     },
     "execution_count": 164,
     "metadata": {},
     "output_type": "execute_result"
    }
   ],
   "source": [
    "melb_data[melb_data['Suburb'] == 'Camberwell']"
   ]
  },
  {
   "cell_type": "code",
   "execution_count": 165,
   "id": "e8b12793",
   "metadata": {
    "hidden": true
   },
   "outputs": [],
   "source": [
    "# Replace the 'NA' at index 26888\n",
    "melb_data.loc[26888, 'CouncilArea'] = 'Boroondara City Council'\n",
    "melb_data.loc[26888, 'Regionname'] = 'Southern Metropolitan'\n",
    "melb_data.loc[26888, 'PropertyCount'] = 8920"
   ]
  },
  {
   "cell_type": "code",
   "execution_count": 166,
   "id": "c075226a",
   "metadata": {
    "hidden": true
   },
   "outputs": [],
   "source": [
    "def fill_coordinates(row):\n",
    "    if pd.isna(row['Latitude']) or pd.isna(row['Longitude']):\n",
    "        full_address = f\"{row['Address'].strip()}, {row['Suburb'].strip()}\"  # Combine address and suburb\n",
    "        lat, lng = get_coordinates_from_address(full_address, api_key)\n",
    "        time.sleep(1)  # Sleep for 1 second to respect rate limits\n",
    "        if lat is not None and lng is not None:\n",
    "            return pd.Series([lat, lng])\n",
    "    return pd.Series([row['Latitude'], row['Longitude']])"
   ]
  },
  {
   "cell_type": "code",
   "execution_count": 40,
   "id": "962099d7",
   "metadata": {
    "hidden": true
   },
   "outputs": [
    {
     "name": "stderr",
     "output_type": "stream",
     "text": [
      "/var/folders/yw/4jpdvg_930bf7v2860107yfw0000gn/T/ipykernel_1212/3520423890.py:3: DeprecationWarning: Using 'method_whitelist' with Retry is deprecated and will be removed in v2.0. Use 'allowed_methods' instead\n",
      "  retry_strategy = Retry(\n"
     ]
    },
    {
     "name": "stdout",
     "output_type": "stream",
     "text": [
      "           Suburb             Address  Rooms      Price       Date  Distance  \\\n",
      "0      Abbotsford       68 Studley St      2        NaN 2016-03-09       2.5   \n",
      "1      Abbotsford        85 Turner St      2  1480000.0 2016-03-12       2.5   \n",
      "2      Abbotsford     25 Bloomburg St      2  1035000.0 2016-04-02       2.5   \n",
      "3      Abbotsford  18/659 Victoria St      3        NaN 2016-04-02       2.5   \n",
      "4      Abbotsford        5 Charles St      3  1465000.0 2017-04-03       2.5   \n",
      "...           ...                 ...    ...        ...        ...       ...   \n",
      "34852  Yarraville         13 Burns St      4  1480000.0 2018-02-24       6.3   \n",
      "34853  Yarraville       29A Murray St      2   888000.0 2018-02-24       6.3   \n",
      "34854  Yarraville      147A Severn St      2   705000.0 2018-02-24       6.3   \n",
      "34855  Yarraville    12/37 Stephen St      3  1140000.0 2018-02-24       6.3   \n",
      "34856  Yarraville    3 Tarrengower St      2  1020000.0 2018-02-24       6.3   \n",
      "\n",
      "       Postcode  Bedrooms  Bathrooms  ParkingCars  Landsize  BuildingArea  \\\n",
      "0          3067         2          1            1     126.0           NaN   \n",
      "1          3067         2          1            1     202.0           NaN   \n",
      "2          3067         2          1            0     156.0          79.0   \n",
      "3          3067         3          2            1       0.0           NaN   \n",
      "4          3067         3          2            0     134.0         150.0   \n",
      "...         ...       ...        ...          ...       ...           ...   \n",
      "34852      3013         4          1            3     593.0           NaN   \n",
      "34853      3013         2          2            1      98.0         104.0   \n",
      "34854      3013         2          1            2     220.0         120.0   \n",
      "34855      3013      <NA>       <NA>         <NA>       NaN           NaN   \n",
      "34856      3013         2          1            0     250.0         103.0   \n",
      "\n",
      "       YearBuilt               CouncilArea   Latitude  Longitude  \\\n",
      "0           <NA>        Yarra City Council -37.801400  144.99580   \n",
      "1           <NA>        Yarra City Council -37.799600  144.99840   \n",
      "2           1900        Yarra City Council -37.807900  144.99340   \n",
      "3           <NA>        Yarra City Council -37.811400  145.01160   \n",
      "4           1900        Yarra City Council -37.809300  144.99440   \n",
      "...          ...                       ...        ...        ...   \n",
      "34852       <NA>  Maribyrnong City Council -37.810530  144.88467   \n",
      "34853       2018  Maribyrnong City Council -37.815510  144.88826   \n",
      "34854       2000  Maribyrnong City Council -37.822860  144.87856   \n",
      "34855       <NA>  Maribyrnong City Council -37.812415  144.89619   \n",
      "34856       1930  Maribyrnong City Council -37.818100  144.89351   \n",
      "\n",
      "                  Regionname  PropertyCount  House  Townhouse  Duplex  \n",
      "0      Northern Metropolitan           4019      1          0       0  \n",
      "1      Northern Metropolitan           4019      1          0       0  \n",
      "2      Northern Metropolitan           4019      1          0       0  \n",
      "3      Northern Metropolitan           4019      0          0       1  \n",
      "4      Northern Metropolitan           4019      1          0       0  \n",
      "...                      ...            ...    ...        ...     ...  \n",
      "34852   Western Metropolitan           6543      1          0       0  \n",
      "34853   Western Metropolitan           6543      1          0       0  \n",
      "34854   Western Metropolitan           6543      0          1       0  \n",
      "34855   Western Metropolitan           6543      1          0       0  \n",
      "34856   Western Metropolitan           6543      1          0       0  \n",
      "\n",
      "[34857 rows x 21 columns]\n"
     ]
    }
   ],
   "source": [
    "# Apply the function\n",
    "melb_data[['Latitude', 'Longitude']] = melb_data.apply(fill_coordinates, axis = 1)"
   ]
  },
  {
   "cell_type": "code",
   "execution_count": 41,
   "id": "ab857961",
   "metadata": {
    "hidden": true
   },
   "outputs": [
    {
     "data": {
      "text/plain": [
       "Suburb               0\n",
       "Address              0\n",
       "Rooms                0\n",
       "Price             7610\n",
       "Date                 0\n",
       "Distance             1\n",
       "Postcode             0\n",
       "Bedrooms          8217\n",
       "Bathrooms         8226\n",
       "ParkingCars       8728\n",
       "Landsize         11810\n",
       "BuildingArea     21115\n",
       "YearBuilt        19306\n",
       "CouncilArea          0\n",
       "Latitude            44\n",
       "Longitude           44\n",
       "Regionname           0\n",
       "PropertyCount        1\n",
       "House                0\n",
       "Townhouse            0\n",
       "Duplex               0\n",
       "dtype: int64"
      ]
     },
     "execution_count": 41,
     "metadata": {},
     "output_type": "execute_result"
    }
   ],
   "source": [
    "melb_data.isna().sum()"
   ]
  },
  {
   "cell_type": "markdown",
   "id": "a2705474",
   "metadata": {
    "heading_collapsed": true
   },
   "source": [
    "### Outlier Detection"
   ]
  },
  {
   "cell_type": "code",
   "execution_count": 32,
   "id": "d0883329",
   "metadata": {
    "hidden": true
   },
   "outputs": [],
   "source": [
    "pd.set_option('display.float_format', lambda x: '%.3f' % x)"
   ]
  },
  {
   "cell_type": "code",
   "execution_count": 33,
   "id": "3840058b",
   "metadata": {
    "hidden": true
   },
   "outputs": [],
   "source": [
    "## remove the line after finishing the project\n",
    "df = pd.read_csv('cleaned_dataset.csv')"
   ]
  },
  {
   "cell_type": "code",
   "execution_count": 34,
   "id": "3bc4dea2",
   "metadata": {
    "hidden": true
   },
   "outputs": [],
   "source": [
    "##remove later on\n",
    "df = df.dropna(subset = ['Price'])"
   ]
  },
  {
   "cell_type": "code",
   "execution_count": 35,
   "id": "b2165e91",
   "metadata": {
    "hidden": true
   },
   "outputs": [
    {
     "data": {
      "text/html": [
       "<div>\n",
       "<style scoped>\n",
       "    .dataframe tbody tr th:only-of-type {\n",
       "        vertical-align: middle;\n",
       "    }\n",
       "\n",
       "    .dataframe tbody tr th {\n",
       "        vertical-align: top;\n",
       "    }\n",
       "\n",
       "    .dataframe thead th {\n",
       "        text-align: right;\n",
       "    }\n",
       "</style>\n",
       "<table border=\"1\" class=\"dataframe\">\n",
       "  <thead>\n",
       "    <tr style=\"text-align: right;\">\n",
       "      <th></th>\n",
       "      <th>Unnamed: 0</th>\n",
       "      <th>Rooms</th>\n",
       "      <th>Price</th>\n",
       "      <th>Postcode</th>\n",
       "      <th>Bedrooms</th>\n",
       "      <th>Bathrooms</th>\n",
       "      <th>ParkingCars</th>\n",
       "      <th>Landsize</th>\n",
       "      <th>BuildingArea</th>\n",
       "      <th>YearBuilt</th>\n",
       "      <th>Latitude</th>\n",
       "      <th>Longitude</th>\n",
       "      <th>PropertyCount</th>\n",
       "      <th>House</th>\n",
       "      <th>Townhouse</th>\n",
       "      <th>Duplex</th>\n",
       "      <th>DistanceToCBD</th>\n",
       "    </tr>\n",
       "  </thead>\n",
       "  <tbody>\n",
       "    <tr>\n",
       "      <th>count</th>\n",
       "      <td>27247.000</td>\n",
       "      <td>27247.000</td>\n",
       "      <td>27247.000</td>\n",
       "      <td>27247.000</td>\n",
       "      <td>20806.000</td>\n",
       "      <td>20800.000</td>\n",
       "      <td>20423.000</td>\n",
       "      <td>17982.000</td>\n",
       "      <td>10656.000</td>\n",
       "      <td>12084.000</td>\n",
       "      <td>27210.000</td>\n",
       "      <td>27210.000</td>\n",
       "      <td>27246.000</td>\n",
       "      <td>27247.000</td>\n",
       "      <td>27247.000</td>\n",
       "      <td>27247.000</td>\n",
       "      <td>27210.000</td>\n",
       "    </tr>\n",
       "    <tr>\n",
       "      <th>mean</th>\n",
       "      <td>17460.472</td>\n",
       "      <td>2.992</td>\n",
       "      <td>1050173.345</td>\n",
       "      <td>3113.794</td>\n",
       "      <td>3.046</td>\n",
       "      <td>1.592</td>\n",
       "      <td>1.715</td>\n",
       "      <td>593.489</td>\n",
       "      <td>156.835</td>\n",
       "      <td>1966.609</td>\n",
       "      <td>-37.590</td>\n",
       "      <td>144.453</td>\n",
       "      <td>7566.831</td>\n",
       "      <td>0.678</td>\n",
       "      <td>0.105</td>\n",
       "      <td>0.217</td>\n",
       "      <td>80.998</td>\n",
       "    </tr>\n",
       "    <tr>\n",
       "      <th>std</th>\n",
       "      <td>10033.858</td>\n",
       "      <td>0.955</td>\n",
       "      <td>641467.130</td>\n",
       "      <td>111.138</td>\n",
       "      <td>0.955</td>\n",
       "      <td>0.701</td>\n",
       "      <td>0.994</td>\n",
       "      <td>3757.266</td>\n",
       "      <td>449.223</td>\n",
       "      <td>36.762</td>\n",
       "      <td>4.161</td>\n",
       "      <td>10.760</td>\n",
       "      <td>4492.225</td>\n",
       "      <td>0.467</td>\n",
       "      <td>0.307</td>\n",
       "      <td>0.412</td>\n",
       "      <td>1281.735</td>\n",
       "    </tr>\n",
       "    <tr>\n",
       "      <th>min</th>\n",
       "      <td>1.000</td>\n",
       "      <td>1.000</td>\n",
       "      <td>85000.000</td>\n",
       "      <td>3000.000</td>\n",
       "      <td>0.000</td>\n",
       "      <td>0.000</td>\n",
       "      <td>0.000</td>\n",
       "      <td>0.000</td>\n",
       "      <td>0.000</td>\n",
       "      <td>1196.000</td>\n",
       "      <td>-38.190</td>\n",
       "      <td>-122.402</td>\n",
       "      <td>83.000</td>\n",
       "      <td>0.000</td>\n",
       "      <td>0.000</td>\n",
       "      <td>0.000</td>\n",
       "      <td>0.098</td>\n",
       "    </tr>\n",
       "    <tr>\n",
       "      <th>25%</th>\n",
       "      <td>8802.500</td>\n",
       "      <td>2.000</td>\n",
       "      <td>635000.000</td>\n",
       "      <td>3046.000</td>\n",
       "      <td>2.000</td>\n",
       "      <td>1.000</td>\n",
       "      <td>1.000</td>\n",
       "      <td>219.000</td>\n",
       "      <td>100.000</td>\n",
       "      <td>1950.000</td>\n",
       "      <td>-37.861</td>\n",
       "      <td>144.926</td>\n",
       "      <td>4294.000</td>\n",
       "      <td>0.000</td>\n",
       "      <td>0.000</td>\n",
       "      <td>0.000</td>\n",
       "      <td>8.325</td>\n",
       "    </tr>\n",
       "    <tr>\n",
       "      <th>50%</th>\n",
       "      <td>17528.000</td>\n",
       "      <td>3.000</td>\n",
       "      <td>870000.000</td>\n",
       "      <td>3088.000</td>\n",
       "      <td>3.000</td>\n",
       "      <td>1.000</td>\n",
       "      <td>2.000</td>\n",
       "      <td>512.000</td>\n",
       "      <td>133.000</td>\n",
       "      <td>1970.000</td>\n",
       "      <td>-37.801</td>\n",
       "      <td>145.005</td>\n",
       "      <td>6567.000</td>\n",
       "      <td>1.000</td>\n",
       "      <td>0.000</td>\n",
       "      <td>0.000</td>\n",
       "      <td>12.742</td>\n",
       "    </tr>\n",
       "    <tr>\n",
       "      <th>75%</th>\n",
       "      <td>26085.000</td>\n",
       "      <td>4.000</td>\n",
       "      <td>1295000.000</td>\n",
       "      <td>3153.000</td>\n",
       "      <td>4.000</td>\n",
       "      <td>2.000</td>\n",
       "      <td>2.000</td>\n",
       "      <td>664.000</td>\n",
       "      <td>182.000</td>\n",
       "      <td>2000.000</td>\n",
       "      <td>-37.748</td>\n",
       "      <td>145.069</td>\n",
       "      <td>10412.000</td>\n",
       "      <td>1.000</td>\n",
       "      <td>0.000</td>\n",
       "      <td>0.000</td>\n",
       "      <td>17.845</td>\n",
       "    </tr>\n",
       "    <tr>\n",
       "      <th>max</th>\n",
       "      <td>34856.000</td>\n",
       "      <td>16.000</td>\n",
       "      <td>11200000.000</td>\n",
       "      <td>3978.000</td>\n",
       "      <td>20.000</td>\n",
       "      <td>9.000</td>\n",
       "      <td>18.000</td>\n",
       "      <td>433014.000</td>\n",
       "      <td>44515.000</td>\n",
       "      <td>2019.000</td>\n",
       "      <td>53.763</td>\n",
       "      <td>174.924</td>\n",
       "      <td>21650.000</td>\n",
       "      <td>1.000</td>\n",
       "      <td>1.000</td>\n",
       "      <td>1.000</td>\n",
       "      <td>30895.004</td>\n",
       "    </tr>\n",
       "  </tbody>\n",
       "</table>\n",
       "</div>"
      ],
      "text/plain": [
       "       Unnamed: 0     Rooms        Price  Postcode  Bedrooms  Bathrooms  \\\n",
       "count   27247.000 27247.000    27247.000 27247.000 20806.000  20800.000   \n",
       "mean    17460.472     2.992  1050173.345  3113.794     3.046      1.592   \n",
       "std     10033.858     0.955   641467.130   111.138     0.955      0.701   \n",
       "min         1.000     1.000    85000.000  3000.000     0.000      0.000   \n",
       "25%      8802.500     2.000   635000.000  3046.000     2.000      1.000   \n",
       "50%     17528.000     3.000   870000.000  3088.000     3.000      1.000   \n",
       "75%     26085.000     4.000  1295000.000  3153.000     4.000      2.000   \n",
       "max     34856.000    16.000 11200000.000  3978.000    20.000      9.000   \n",
       "\n",
       "       ParkingCars   Landsize  BuildingArea  YearBuilt  Latitude  Longitude  \\\n",
       "count    20423.000  17982.000     10656.000  12084.000 27210.000  27210.000   \n",
       "mean         1.715    593.489       156.835   1966.609   -37.590    144.453   \n",
       "std          0.994   3757.266       449.223     36.762     4.161     10.760   \n",
       "min          0.000      0.000         0.000   1196.000   -38.190   -122.402   \n",
       "25%          1.000    219.000       100.000   1950.000   -37.861    144.926   \n",
       "50%          2.000    512.000       133.000   1970.000   -37.801    145.005   \n",
       "75%          2.000    664.000       182.000   2000.000   -37.748    145.069   \n",
       "max         18.000 433014.000     44515.000   2019.000    53.763    174.924   \n",
       "\n",
       "       PropertyCount     House  Townhouse    Duplex  DistanceToCBD  \n",
       "count      27246.000 27247.000  27247.000 27247.000      27210.000  \n",
       "mean        7566.831     0.678      0.105     0.217         80.998  \n",
       "std         4492.225     0.467      0.307     0.412       1281.735  \n",
       "min           83.000     0.000      0.000     0.000          0.098  \n",
       "25%         4294.000     0.000      0.000     0.000          8.325  \n",
       "50%         6567.000     1.000      0.000     0.000         12.742  \n",
       "75%        10412.000     1.000      0.000     0.000         17.845  \n",
       "max        21650.000     1.000      1.000     1.000      30895.004  "
      ]
     },
     "execution_count": 35,
     "metadata": {},
     "output_type": "execute_result"
    }
   ],
   "source": [
    "df.describe()"
   ]
  },
  {
   "cell_type": "code",
   "execution_count": 36,
   "id": "bfa112ee",
   "metadata": {
    "hidden": true
   },
   "outputs": [
    {
     "data": {
      "text/plain": [
       "array([ 2.,  3.,  4., nan,  1.,  6.,  5.,  0.,  8.,  9.,  7., 20., 10.,\n",
       "       16., 12.])"
      ]
     },
     "execution_count": 36,
     "metadata": {},
     "output_type": "execute_result"
    }
   ],
   "source": [
    "df['Bedrooms'].unique()"
   ]
  },
  {
   "cell_type": "code",
   "execution_count": 37,
   "id": "db6a6f50",
   "metadata": {
    "hidden": true
   },
   "outputs": [
    {
     "name": "stderr",
     "output_type": "stream",
     "text": [
      "/var/folders/yw/4jpdvg_930bf7v2860107yfw0000gn/T/ipykernel_30461/1597874070.py:2: FutureWarning: A value is trying to be set on a copy of a DataFrame or Series through chained assignment using an inplace method.\n",
      "The behavior will change in pandas 3.0. This inplace method will never work because the intermediate object on which we are setting values always behaves as a copy.\n",
      "\n",
      "For example, when doing 'df[col].method(value, inplace=True)', try using 'df.method({col: value}, inplace=True)' or df[col] = df[col].method(value) instead, to perform the operation inplace on the original object.\n",
      "\n",
      "\n",
      "  df['Bedrooms'].replace(0, np.nan, inplace = True)\n"
     ]
    }
   ],
   "source": [
    "# Replace 0 values in 'Bedrooms' with NaN\n",
    "df['Bedrooms'].replace(0, np.nan, inplace = True)"
   ]
  },
  {
   "cell_type": "code",
   "execution_count": 42,
   "id": "5e07e145",
   "metadata": {
    "hidden": true
   },
   "outputs": [],
   "source": [
    "# Calculate median bedrooms for each suburb\n",
    "median_bedrooms = df[df['Bedrooms'] > 0].groupby('Suburb')['Bedrooms'].median()\n",
    "\n",
    "# Function to replace 0 bedrooms with the suburb median\n",
    "def replace_zero_bedrooms(row):\n",
    "    if row['Bedrooms'] == 0:\n",
    "        return median_bedrooms.get(row['Suburb'], 0)\n",
    "    else:\n",
    "        return row['Bedrooms']\n",
    "\n",
    "# Apply the function\n",
    "df['Bedrooms'] = df.apply(replace_zero_bedrooms, axis = 1)"
   ]
  },
  {
   "cell_type": "code",
   "execution_count": 43,
   "id": "0b4f9c6f",
   "metadata": {
    "hidden": true
   },
   "outputs": [
    {
     "data": {
      "text/plain": [
       "array([ 1.,  2., nan,  3.,  4.,  7.,  5.,  6.,  8.,  9.])"
      ]
     },
     "execution_count": 43,
     "metadata": {},
     "output_type": "execute_result"
    }
   ],
   "source": [
    "df['Bathrooms'].unique()"
   ]
  },
  {
   "cell_type": "code",
   "execution_count": 44,
   "id": "45eda46f",
   "metadata": {
    "hidden": true
   },
   "outputs": [
    {
     "name": "stderr",
     "output_type": "stream",
     "text": [
      "/var/folders/yw/4jpdvg_930bf7v2860107yfw0000gn/T/ipykernel_30461/3363281290.py:2: FutureWarning: A value is trying to be set on a copy of a DataFrame or Series through chained assignment using an inplace method.\n",
      "The behavior will change in pandas 3.0. This inplace method will never work because the intermediate object on which we are setting values always behaves as a copy.\n",
      "\n",
      "For example, when doing 'df[col].method(value, inplace=True)', try using 'df.method({col: value}, inplace=True)' or df[col] = df[col].method(value) instead, to perform the operation inplace on the original object.\n",
      "\n",
      "\n",
      "  df['Bathrooms'].replace(0, np.nan, inplace = True)\n"
     ]
    }
   ],
   "source": [
    "# Replace 0 values in 'Bathrooms' with NaN\n",
    "df['Bathrooms'].replace(0, np.nan, inplace = True)"
   ]
  },
  {
   "cell_type": "code",
   "execution_count": 45,
   "id": "f8cdbab1",
   "metadata": {
    "hidden": true
   },
   "outputs": [],
   "source": [
    "# Calculate median bathrooms for each suburb\n",
    "median_bathrooms = df[df['Bathrooms'] > 0].groupby('Suburb')['Bathrooms'].median()\n",
    "\n",
    "# Function to replace 0 bathrooms with the suburb median\n",
    "def replace_zero_bathrooms(row):\n",
    "    if row['Bathrooms'] == 0:\n",
    "        return median_bathrooms.get(row['Suburb'], 0)\n",
    "    else:\n",
    "        return row['Bathrooms']\n",
    "\n",
    "# Apply the function\n",
    "df['Bathrooms'] = df.apply(replace_zero_bathrooms, axis = 1)"
   ]
  },
  {
   "cell_type": "code",
   "execution_count": 46,
   "id": "7c9733d1",
   "metadata": {
    "hidden": true
   },
   "outputs": [
    {
     "data": {
      "text/plain": [
       "1942"
      ]
     },
     "execution_count": 46,
     "metadata": {},
     "output_type": "execute_result"
    }
   ],
   "source": [
    "(df['Landsize'] == 0).sum()"
   ]
  },
  {
   "cell_type": "code",
   "execution_count": 47,
   "id": "a97419c1",
   "metadata": {
    "hidden": true
   },
   "outputs": [],
   "source": [
    "df['Landsize'] = df['Landsize'].replace(0, np.nan)"
   ]
  },
  {
   "cell_type": "code",
   "execution_count": 48,
   "id": "2b231c34",
   "metadata": {
    "hidden": true
   },
   "outputs": [
    {
     "data": {
      "text/plain": [
       "61"
      ]
     },
     "execution_count": 48,
     "metadata": {},
     "output_type": "execute_result"
    }
   ],
   "source": [
    "(df['BuildingArea'] == 0). sum()"
   ]
  },
  {
   "cell_type": "code",
   "execution_count": 49,
   "id": "09e35c49",
   "metadata": {
    "hidden": true
   },
   "outputs": [],
   "source": [
    "# Drop rows where the values in 'BuildingArea' are 0\n",
    "df = df[df['BuildingArea'] != 0]"
   ]
  },
  {
   "cell_type": "code",
   "execution_count": 50,
   "id": "ede001f7",
   "metadata": {
    "hidden": true
   },
   "outputs": [
    {
     "data": {
      "text/plain": [
       "2019.0"
      ]
     },
     "execution_count": 50,
     "metadata": {},
     "output_type": "execute_result"
    }
   ],
   "source": [
    "df['YearBuilt'].max()"
   ]
  },
  {
   "cell_type": "code",
   "execution_count": 51,
   "id": "d27f7b8b",
   "metadata": {
    "hidden": true
   },
   "outputs": [
    {
     "data": {
      "text/plain": [
       "0"
      ]
     },
     "execution_count": 51,
     "metadata": {},
     "output_type": "execute_result"
    }
   ],
   "source": [
    "(df['YearBuilt'] > 2024).sum()"
   ]
  },
  {
   "cell_type": "code",
   "execution_count": 52,
   "id": "38b9cb42",
   "metadata": {
    "hidden": true
   },
   "outputs": [],
   "source": [
    "df = df[df['YearBuilt'] <= 2106]"
   ]
  },
  {
   "cell_type": "code",
   "execution_count": 53,
   "id": "be706a1e",
   "metadata": {
    "hidden": true
   },
   "outputs": [
    {
     "data": {
      "text/plain": [
       "Unnamed: 0          0\n",
       "Suburb              0\n",
       "Address             0\n",
       "Rooms               0\n",
       "Price               0\n",
       "Date                0\n",
       "Postcode            0\n",
       "Bedrooms            5\n",
       "Bathrooms           3\n",
       "ParkingCars       194\n",
       "Landsize         2739\n",
       "BuildingArea     1835\n",
       "YearBuilt           0\n",
       "CouncilArea         0\n",
       "Latitude            0\n",
       "Longitude           0\n",
       "Regionname          0\n",
       "PropertyCount       0\n",
       "House               0\n",
       "Townhouse           0\n",
       "Duplex              0\n",
       "DistanceToCBD       0\n",
       "dtype: int64"
      ]
     },
     "execution_count": 53,
     "metadata": {},
     "output_type": "execute_result"
    }
   ],
   "source": [
    "df.isna().sum()"
   ]
  },
  {
   "cell_type": "markdown",
   "id": "fb375eac",
   "metadata": {
    "heading_collapsed": true
   },
   "source": [
    "### Exploratory Data Analysis"
   ]
  },
  {
   "cell_type": "markdown",
   "id": "d60a5c42",
   "metadata": {
    "hidden": true
   },
   "source": [
    "Categorical Variables:\n",
    "- Suburb\n",
    "- Address\n",
    "- Date\n",
    "- CouncilArea\n",
    "- Regionname\n",
    "- House\n",
    "- Townhouse\n",
    "- Duplex\n",
    "\n",
    "Numerical Variables:\n",
    "- Rooms\n",
    "- Price\n",
    "- DistanceToCBD\n",
    "- Postcode\n",
    "- Bedrooms\n",
    "- Bathrooms\n",
    "- ParkingCars\n",
    "- Landsize\n",
    "- BuildingArea\n",
    "- YearBuilt\n",
    "- Lattitude\n",
    "- Longtitude\n",
    "- Propertycount"
   ]
  },
  {
   "cell_type": "markdown",
   "id": "51856a63",
   "metadata": {
    "heading_collapsed": true,
    "hidden": true
   },
   "source": [
    "#### Categorical Variable"
   ]
  },
  {
   "cell_type": "code",
   "execution_count": 54,
   "id": "7aaa3a31",
   "metadata": {
    "hidden": true
   },
   "outputs": [],
   "source": [
    "def bar_plot(variable):\n",
    "\n",
    "    var = df[variable]\n",
    "    \n",
    "    varValue = var.value_counts()\n",
    "    \n",
    "    # visualize\n",
    "    plt.figure(figsize =(9,3))\n",
    "    plt.bar(varValue.index, varValue)\n",
    "    plt.xticks(varValue.index, varValue.index.values, rotation = 90)\n",
    "    plt.title(variable)\n",
    "    plt.show()\n",
    "    print(\"{}: \\n {}\".format(variable, varValue))"
   ]
  },
  {
   "cell_type": "code",
   "execution_count": 55,
   "id": "06655e00",
   "metadata": {
    "hidden": true
   },
   "outputs": [
    {
     "data": {
      "image/png": "[encoded data removed]",
      "text/plain": [
       "<Figure size 900x300 with 1 Axes>"
      ]
     },
     "metadata": {},
     "output_type": "display_data"
    },
    {
     "name": "stdout",
     "output_type": "stream",
     "text": [
      "CouncilArea: \n",
      " CouncilArea\n",
      "Boroondara City Council           1098\n",
      "Darebin City Council               961\n",
      "Moreland City Council              826\n",
      "Moonee Valley City Council         699\n",
      "Glen Eira City Council             699\n",
      "Melbourne City Council             662\n",
      "Maribyrnong City Council           627\n",
      "Banyule City Council               596\n",
      "Brimbank City Council              565\n",
      "Hume City Council                  528\n",
      "Bayside City Council               508\n",
      "Port Phillip City Council          470\n",
      "Yarra City Council                 435\n",
      "Monash City Council                398\n",
      "Stonnington City Council           382\n",
      "Hobsons Bay City Council           364\n",
      "Manningham City Council            348\n",
      "Whittlesea City Council            337\n",
      "Kingston City Council              296\n",
      "Wyndham City Council               234\n",
      "Whitehorse City Council            178\n",
      "Maroondah City Council             161\n",
      "Melton City Council                149\n",
      "Knox City Council                  134\n",
      "Frankston City Council             116\n",
      "Greater Dandenong City Council      75\n",
      "Casey City Council                  74\n",
      "Nillumbik Shire Council             41\n",
      "Yarra Ranges Shire Council          26\n",
      "Cardinia Shire Council              16\n",
      "Macedon Ranges Shire Council        13\n",
      "Mitchell Shire Council               6\n",
      "Moorabool Shire Council              2\n",
      "Name: count, dtype: int64\n"
     ]
    },
    {
     "data": {
      "image/png": "[encoded data removed]",
      "text/plain": [
       "<Figure size 900x300 with 1 Axes>"
      ]
     },
     "metadata": {},
     "output_type": "display_data"
    },
    {
     "name": "stdout",
     "output_type": "stream",
     "text": [
      "Regionname: \n",
      " Regionname\n",
      "Southern Metropolitan         3720\n",
      "Northern Metropolitan         3498\n",
      "Western Metropolitan          2663\n",
      "Eastern Metropolitan          1361\n",
      "South-Eastern Metropolitan     554\n",
      "Northern Victoria               90\n",
      "Eastern Victoria                75\n",
      "Western Victoria                63\n",
      "Name: count, dtype: int64\n"
     ]
    }
   ],
   "source": [
    "categories1 = ['CouncilArea', 'Regionname']\n",
    "\n",
    "for c in categories1:\n",
    "    bar_plot(c)"
   ]
  },
  {
   "cell_type": "markdown",
   "id": "fef13302",
   "metadata": {
    "heading_collapsed": true,
    "hidden": true
   },
   "source": [
    "#### Numerical Variable"
   ]
  },
  {
   "cell_type": "code",
   "execution_count": 56,
   "id": "fc90c2b6",
   "metadata": {
    "hidden": true
   },
   "outputs": [],
   "source": [
    "def plot_hist(variable):\n",
    "    plt.figure(figsize = (9,3))\n",
    "    plt.hist(df[variable], bins = 25)\n",
    "    plt.xlabel(variable)\n",
    "    plt.title(\"{} disribution with hist\".format(variable))\n",
    "    plt.show()"
   ]
  },
  {
   "cell_type": "code",
   "execution_count": 57,
   "id": "d4d5f542",
   "metadata": {
    "hidden": true
   },
   "outputs": [
    {
     "data": {
      "image/png": "[encoded data removed]",
      "text/plain": [
       "<Figure size 900x300 with 1 Axes>"
      ]
     },
     "metadata": {},
     "output_type": "display_data"
    },
    {
     "data": {
      "image/png": "[encoded data removed]",
      "text/plain": [
       "<Figure size 900x300 with 1 Axes>"
      ]
     },
     "metadata": {},
     "output_type": "display_data"
    },
    {
     "data": {
      "image/png": "[encoded data removed]",
      "text/plain": [
       "<Figure size 900x300 with 1 Axes>"
      ]
     },
     "metadata": {},
     "output_type": "display_data"
    },
    {
     "data": {
      "image/png": "[encoded data removed]",
      "text/plain": [
       "<Figure size 900x300 with 1 Axes>"
      ]
     },
     "metadata": {},
     "output_type": "display_data"
    },
    {
     "data": {
      "image/png": "[encoded data removed]",
      "text/plain": [
       "<Figure size 900x300 with 1 Axes>"
      ]
     },
     "metadata": {},
     "output_type": "display_data"
    },
    {
     "data": {
      "image/png": "[encoded data removed]",
      "text/plain": [
       "<Figure size 900x300 with 1 Axes>"
      ]
     },
     "metadata": {},
     "output_type": "display_data"
    },
    {
     "data": {
      "image/png": "[encoded data removed]",
      "text/plain": [
       "<Figure size 900x300 with 1 Axes>"
      ]
     },
     "metadata": {},
     "output_type": "display_data"
    },
    {
     "data": {
      "image/png": "[encoded data removed]",
      "text/plain": [
       "<Figure size 900x300 with 1 Axes>"
      ]
     },
     "metadata": {},
     "output_type": "display_data"
    },
    {
     "data": {
      "image/png": "[encoded data removed]",
      "text/plain": [
       "<Figure size 900x300 with 1 Axes>"
      ]
     },
     "metadata": {},
     "output_type": "display_data"
    },
    {
     "data": {
      "image/png": "[encoded data removed]",
      "text/plain": [
       "<Figure size 900x300 with 1 Axes>"
      ]
     },
     "metadata": {},
     "output_type": "display_data"
    },
    {
     "data": {
      "image/png": "[encoded data removed]",
      "text/plain": [
       "<Figure size 900x300 with 1 Axes>"
      ]
     },
     "metadata": {},
     "output_type": "display_data"
    },
    {
     "data": {
      "image/png": "[encoded data removed]",
      "text/plain": [
       "<Figure size 900x300 with 1 Axes>"
      ]
     },
     "metadata": {},
     "output_type": "display_data"
    },
    {
     "data": {
      "image/png": "[encoded data removed]",
      "text/plain": [
       "<Figure size 900x300 with 1 Axes>"
      ]
     },
     "metadata": {},
     "output_type": "display_data"
    }
   ],
   "source": [
    "numericVar = ['Rooms','Price','DistanceToCBD','Postcode','Bedrooms','Bathrooms','ParkingCars','Landsize','BuildingArea','YearBuilt','Latitude', 'Longitude','PropertyCount']\n",
    "\n",
    "for n in numericVar:\n",
    "    plot_hist(n)"
   ]
  },
  {
   "cell_type": "markdown",
   "id": "5bca545e",
   "metadata": {
    "heading_collapsed": true,
    "hidden": true
   },
   "source": [
    "#### Analysis Between Some Features"
   ]
  },
  {
   "cell_type": "markdown",
   "id": "f014a303",
   "metadata": {
    "hidden": true
   },
   "source": [
    "- Rooms - Price\n",
    "- Bedrooms - Price\n",
    "- Bathrooms - Price\n",
    "- BuildingArea - Price\n",
    "- ParkingCars - Price\n",
    "- House - Price\n",
    "- Townhouse - Price\n",
    "- Duplex - Price"
   ]
  },
  {
   "cell_type": "code",
   "execution_count": 58,
   "id": "306ad7cb",
   "metadata": {
    "hidden": true
   },
   "outputs": [
    {
     "data": {
      "text/html": [
       "<div>\n",
       "<style scoped>\n",
       "    .dataframe tbody tr th:only-of-type {\n",
       "        vertical-align: middle;\n",
       "    }\n",
       "\n",
       "    .dataframe tbody tr th {\n",
       "        vertical-align: top;\n",
       "    }\n",
       "\n",
       "    .dataframe thead th {\n",
       "        text-align: right;\n",
       "    }\n",
       "</style>\n",
       "<table border=\"1\" class=\"dataframe\">\n",
       "  <thead>\n",
       "    <tr style=\"text-align: right;\">\n",
       "      <th></th>\n",
       "      <th>Rooms</th>\n",
       "      <th>Price</th>\n",
       "    </tr>\n",
       "  </thead>\n",
       "  <tbody>\n",
       "    <tr>\n",
       "      <th>5</th>\n",
       "      <td>6</td>\n",
       "      <td>2036000.000</td>\n",
       "    </tr>\n",
       "    <tr>\n",
       "      <th>6</th>\n",
       "      <td>7</td>\n",
       "      <td>1974272.727</td>\n",
       "    </tr>\n",
       "    <tr>\n",
       "      <th>4</th>\n",
       "      <td>5</td>\n",
       "      <td>1897435.148</td>\n",
       "    </tr>\n",
       "    <tr>\n",
       "      <th>8</th>\n",
       "      <td>10</td>\n",
       "      <td>1607500.000</td>\n",
       "    </tr>\n",
       "    <tr>\n",
       "      <th>7</th>\n",
       "      <td>8</td>\n",
       "      <td>1401753.200</td>\n",
       "    </tr>\n",
       "    <tr>\n",
       "      <th>3</th>\n",
       "      <td>4</td>\n",
       "      <td>1372894.311</td>\n",
       "    </tr>\n",
       "    <tr>\n",
       "      <th>2</th>\n",
       "      <td>3</td>\n",
       "      <td>1032482.935</td>\n",
       "    </tr>\n",
       "    <tr>\n",
       "      <th>1</th>\n",
       "      <td>2</td>\n",
       "      <td>744764.204</td>\n",
       "    </tr>\n",
       "    <tr>\n",
       "      <th>9</th>\n",
       "      <td>12</td>\n",
       "      <td>710000.000</td>\n",
       "    </tr>\n",
       "    <tr>\n",
       "      <th>0</th>\n",
       "      <td>1</td>\n",
       "      <td>416750.403</td>\n",
       "    </tr>\n",
       "  </tbody>\n",
       "</table>\n",
       "</div>"
      ],
      "text/plain": [
       "   Rooms       Price\n",
       "5      6 2036000.000\n",
       "6      7 1974272.727\n",
       "4      5 1897435.148\n",
       "8     10 1607500.000\n",
       "7      8 1401753.200\n",
       "3      4 1372894.311\n",
       "2      3 1032482.935\n",
       "1      2  744764.204\n",
       "9     12  710000.000\n",
       "0      1  416750.403"
      ]
     },
     "execution_count": 58,
     "metadata": {},
     "output_type": "execute_result"
    }
   ],
   "source": [
    "# Rooms - Price\n",
    "df[[\"Rooms\", \"Price\"]].groupby([\"Rooms\"], as_index = False).mean().sort_values(by = \"Price\", ascending = False)"
   ]
  },
  {
   "cell_type": "code",
   "execution_count": 26,
   "id": "decdbfdd",
   "metadata": {
    "hidden": true
   },
   "outputs": [
    {
     "data": {
      "text/html": [
       "<div>\n",
       "<style scoped>\n",
       "    .dataframe tbody tr th:only-of-type {\n",
       "        vertical-align: middle;\n",
       "    }\n",
       "\n",
       "    .dataframe tbody tr th {\n",
       "        vertical-align: top;\n",
       "    }\n",
       "\n",
       "    .dataframe thead th {\n",
       "        text-align: right;\n",
       "    }\n",
       "</style>\n",
       "<table border=\"1\" class=\"dataframe\">\n",
       "  <thead>\n",
       "    <tr style=\"text-align: right;\">\n",
       "      <th></th>\n",
       "      <th>Bedrooms</th>\n",
       "      <th>Price</th>\n",
       "    </tr>\n",
       "  </thead>\n",
       "  <tbody>\n",
       "    <tr>\n",
       "      <th>5</th>\n",
       "      <td>6.000</td>\n",
       "      <td>2019548.387</td>\n",
       "    </tr>\n",
       "    <tr>\n",
       "      <th>6</th>\n",
       "      <td>7.000</td>\n",
       "      <td>1979666.667</td>\n",
       "    </tr>\n",
       "    <tr>\n",
       "      <th>4</th>\n",
       "      <td>5.000</td>\n",
       "      <td>1874726.556</td>\n",
       "    </tr>\n",
       "    <tr>\n",
       "      <th>9</th>\n",
       "      <td>10.000</td>\n",
       "      <td>1607500.000</td>\n",
       "    </tr>\n",
       "    <tr>\n",
       "      <th>8</th>\n",
       "      <td>9.000</td>\n",
       "      <td>1487000.000</td>\n",
       "    </tr>\n",
       "    <tr>\n",
       "      <th>3</th>\n",
       "      <td>4.000</td>\n",
       "      <td>1380280.193</td>\n",
       "    </tr>\n",
       "    <tr>\n",
       "      <th>7</th>\n",
       "      <td>8.000</td>\n",
       "      <td>1059255.333</td>\n",
       "    </tr>\n",
       "    <tr>\n",
       "      <th>2</th>\n",
       "      <td>3.000</td>\n",
       "      <td>1037897.137</td>\n",
       "    </tr>\n",
       "    <tr>\n",
       "      <th>1</th>\n",
       "      <td>2.000</td>\n",
       "      <td>753487.765</td>\n",
       "    </tr>\n",
       "    <tr>\n",
       "      <th>10</th>\n",
       "      <td>12.000</td>\n",
       "      <td>710000.000</td>\n",
       "    </tr>\n",
       "    <tr>\n",
       "      <th>0</th>\n",
       "      <td>1.000</td>\n",
       "      <td>431571.304</td>\n",
       "    </tr>\n",
       "  </tbody>\n",
       "</table>\n",
       "</div>"
      ],
      "text/plain": [
       "    Bedrooms       Price\n",
       "5      6.000 2019548.387\n",
       "6      7.000 1979666.667\n",
       "4      5.000 1874726.556\n",
       "9     10.000 1607500.000\n",
       "8      9.000 1487000.000\n",
       "3      4.000 1380280.193\n",
       "7      8.000 1059255.333\n",
       "2      3.000 1037897.137\n",
       "1      2.000  753487.765\n",
       "10    12.000  710000.000\n",
       "0      1.000  431571.304"
      ]
     },
     "execution_count": 26,
     "metadata": {},
     "output_type": "execute_result"
    }
   ],
   "source": [
    "# Bedrooms - Price\n",
    "df[[\"Bedrooms\", \"Price\"]].groupby([\"Bedrooms\"], as_index = False).mean().sort_values(by = \"Price\", ascending = False)"
   ]
  },
  {
   "cell_type": "code",
   "execution_count": 59,
   "id": "760fb37a",
   "metadata": {
    "hidden": true
   },
   "outputs": [
    {
     "data": {
      "text/html": [
       "<div>\n",
       "<style scoped>\n",
       "    .dataframe tbody tr th:only-of-type {\n",
       "        vertical-align: middle;\n",
       "    }\n",
       "\n",
       "    .dataframe tbody tr th {\n",
       "        vertical-align: top;\n",
       "    }\n",
       "\n",
       "    .dataframe thead th {\n",
       "        text-align: right;\n",
       "    }\n",
       "</style>\n",
       "<table border=\"1\" class=\"dataframe\">\n",
       "  <thead>\n",
       "    <tr style=\"text-align: right;\">\n",
       "      <th></th>\n",
       "      <th>Bathrooms</th>\n",
       "      <th>Price</th>\n",
       "    </tr>\n",
       "  </thead>\n",
       "  <tbody>\n",
       "    <tr>\n",
       "      <th>5</th>\n",
       "      <td>6.000</td>\n",
       "      <td>3490250.000</td>\n",
       "    </tr>\n",
       "    <tr>\n",
       "      <th>6</th>\n",
       "      <td>7.000</td>\n",
       "      <td>2950000.000</td>\n",
       "    </tr>\n",
       "    <tr>\n",
       "      <th>3</th>\n",
       "      <td>4.000</td>\n",
       "      <td>2705718.644</td>\n",
       "    </tr>\n",
       "    <tr>\n",
       "      <th>4</th>\n",
       "      <td>5.000</td>\n",
       "      <td>2655290.323</td>\n",
       "    </tr>\n",
       "    <tr>\n",
       "      <th>8</th>\n",
       "      <td>9.000</td>\n",
       "      <td>2315000.000</td>\n",
       "    </tr>\n",
       "    <tr>\n",
       "      <th>2</th>\n",
       "      <td>3.000</td>\n",
       "      <td>1752156.792</td>\n",
       "    </tr>\n",
       "    <tr>\n",
       "      <th>1</th>\n",
       "      <td>2.000</td>\n",
       "      <td>1175988.220</td>\n",
       "    </tr>\n",
       "    <tr>\n",
       "      <th>0</th>\n",
       "      <td>1.000</td>\n",
       "      <td>828726.709</td>\n",
       "    </tr>\n",
       "    <tr>\n",
       "      <th>7</th>\n",
       "      <td>8.000</td>\n",
       "      <td>760000.000</td>\n",
       "    </tr>\n",
       "  </tbody>\n",
       "</table>\n",
       "</div>"
      ],
      "text/plain": [
       "   Bathrooms       Price\n",
       "5      6.000 3490250.000\n",
       "6      7.000 2950000.000\n",
       "3      4.000 2705718.644\n",
       "4      5.000 2655290.323\n",
       "8      9.000 2315000.000\n",
       "2      3.000 1752156.792\n",
       "1      2.000 1175988.220\n",
       "0      1.000  828726.709\n",
       "7      8.000  760000.000"
      ]
     },
     "execution_count": 59,
     "metadata": {},
     "output_type": "execute_result"
    }
   ],
   "source": [
    "# Bathrooms - Price\n",
    "df[[\"Bathrooms\", \"Price\"]].groupby([\"Bathrooms\"], as_index = False).mean().sort_values(by = \"Price\", ascending = False)"
   ]
  },
  {
   "cell_type": "code",
   "execution_count": 28,
   "id": "2d19a5b4",
   "metadata": {
    "hidden": true
   },
   "outputs": [
    {
     "data": {
      "text/html": [
       "<div>\n",
       "<style scoped>\n",
       "    .dataframe tbody tr th:only-of-type {\n",
       "        vertical-align: middle;\n",
       "    }\n",
       "\n",
       "    .dataframe tbody tr th {\n",
       "        vertical-align: top;\n",
       "    }\n",
       "\n",
       "    .dataframe thead th {\n",
       "        text-align: right;\n",
       "    }\n",
       "</style>\n",
       "<table border=\"1\" class=\"dataframe\">\n",
       "  <thead>\n",
       "    <tr style=\"text-align: right;\">\n",
       "      <th></th>\n",
       "      <th>BuildingArea</th>\n",
       "      <th>Price</th>\n",
       "    </tr>\n",
       "  </thead>\n",
       "  <tbody>\n",
       "    <tr>\n",
       "      <th>548</th>\n",
       "      <td>464.300</td>\n",
       "      <td>8000000.000</td>\n",
       "    </tr>\n",
       "    <tr>\n",
       "      <th>588</th>\n",
       "      <td>638.000</td>\n",
       "      <td>5770000.000</td>\n",
       "    </tr>\n",
       "    <tr>\n",
       "      <th>517</th>\n",
       "      <td>414.000</td>\n",
       "      <td>5580000.000</td>\n",
       "    </tr>\n",
       "    <tr>\n",
       "      <th>566</th>\n",
       "      <td>516.000</td>\n",
       "      <td>5525000.000</td>\n",
       "    </tr>\n",
       "    <tr>\n",
       "      <th>565</th>\n",
       "      <td>513.000</td>\n",
       "      <td>5150000.000</td>\n",
       "    </tr>\n",
       "    <tr>\n",
       "      <th>...</th>\n",
       "      <td>...</td>\n",
       "      <td>...</td>\n",
       "    </tr>\n",
       "    <tr>\n",
       "      <th>23</th>\n",
       "      <td>33.000</td>\n",
       "      <td>312400.000</td>\n",
       "    </tr>\n",
       "    <tr>\n",
       "      <th>67</th>\n",
       "      <td>66.320</td>\n",
       "      <td>300000.000</td>\n",
       "    </tr>\n",
       "    <tr>\n",
       "      <th>178</th>\n",
       "      <td>122.860</td>\n",
       "      <td>295000.000</td>\n",
       "    </tr>\n",
       "    <tr>\n",
       "      <th>35</th>\n",
       "      <td>42.200</td>\n",
       "      <td>286000.000</td>\n",
       "    </tr>\n",
       "    <tr>\n",
       "      <th>19</th>\n",
       "      <td>29.000</td>\n",
       "      <td>222000.000</td>\n",
       "    </tr>\n",
       "  </tbody>\n",
       "</table>\n",
       "<p>611 rows × 2 columns</p>\n",
       "</div>"
      ],
      "text/plain": [
       "     BuildingArea       Price\n",
       "548       464.300 8000000.000\n",
       "588       638.000 5770000.000\n",
       "517       414.000 5580000.000\n",
       "566       516.000 5525000.000\n",
       "565       513.000 5150000.000\n",
       "..            ...         ...\n",
       "23         33.000  312400.000\n",
       "67         66.320  300000.000\n",
       "178       122.860  295000.000\n",
       "35         42.200  286000.000\n",
       "19         29.000  222000.000\n",
       "\n",
       "[611 rows x 2 columns]"
      ]
     },
     "execution_count": 28,
     "metadata": {},
     "output_type": "execute_result"
    }
   ],
   "source": [
    "# BuildingArea - Price\n",
    "df[[\"BuildingArea\", \"Price\"]].groupby([\"BuildingArea\"], as_index = False).mean().sort_values(by = \"Price\", ascending = False)"
   ]
  },
  {
   "cell_type": "code",
   "execution_count": 60,
   "id": "f97d5990",
   "metadata": {
    "hidden": true
   },
   "outputs": [
    {
     "data": {
      "text/html": [
       "<div>\n",
       "<style scoped>\n",
       "    .dataframe tbody tr th:only-of-type {\n",
       "        vertical-align: middle;\n",
       "    }\n",
       "\n",
       "    .dataframe tbody tr th {\n",
       "        vertical-align: top;\n",
       "    }\n",
       "\n",
       "    .dataframe thead th {\n",
       "        text-align: right;\n",
       "    }\n",
       "</style>\n",
       "<table border=\"1\" class=\"dataframe\">\n",
       "  <thead>\n",
       "    <tr style=\"text-align: right;\">\n",
       "      <th></th>\n",
       "      <th>ParkingCars</th>\n",
       "      <th>Price</th>\n",
       "    </tr>\n",
       "  </thead>\n",
       "  <tbody>\n",
       "    <tr>\n",
       "      <th>9</th>\n",
       "      <td>9.000</td>\n",
       "      <td>2100000.000</td>\n",
       "    </tr>\n",
       "    <tr>\n",
       "      <th>7</th>\n",
       "      <td>7.000</td>\n",
       "      <td>1901111.111</td>\n",
       "    </tr>\n",
       "    <tr>\n",
       "      <th>8</th>\n",
       "      <td>8.000</td>\n",
       "      <td>1489000.000</td>\n",
       "    </tr>\n",
       "    <tr>\n",
       "      <th>5</th>\n",
       "      <td>5.000</td>\n",
       "      <td>1428933.333</td>\n",
       "    </tr>\n",
       "    <tr>\n",
       "      <th>4</th>\n",
       "      <td>4.000</td>\n",
       "      <td>1374943.700</td>\n",
       "    </tr>\n",
       "    <tr>\n",
       "      <th>3</th>\n",
       "      <td>3.000</td>\n",
       "      <td>1360145.480</td>\n",
       "    </tr>\n",
       "    <tr>\n",
       "      <th>6</th>\n",
       "      <td>6.000</td>\n",
       "      <td>1252353.846</td>\n",
       "    </tr>\n",
       "    <tr>\n",
       "      <th>2</th>\n",
       "      <td>2.000</td>\n",
       "      <td>1191134.760</td>\n",
       "    </tr>\n",
       "    <tr>\n",
       "      <th>0</th>\n",
       "      <td>0.000</td>\n",
       "      <td>1088644.071</td>\n",
       "    </tr>\n",
       "    <tr>\n",
       "      <th>10</th>\n",
       "      <td>10.000</td>\n",
       "      <td>939000.000</td>\n",
       "    </tr>\n",
       "    <tr>\n",
       "      <th>1</th>\n",
       "      <td>1.000</td>\n",
       "      <td>847279.722</td>\n",
       "    </tr>\n",
       "  </tbody>\n",
       "</table>\n",
       "</div>"
      ],
      "text/plain": [
       "    ParkingCars       Price\n",
       "9         9.000 2100000.000\n",
       "7         7.000 1901111.111\n",
       "8         8.000 1489000.000\n",
       "5         5.000 1428933.333\n",
       "4         4.000 1374943.700\n",
       "3         3.000 1360145.480\n",
       "6         6.000 1252353.846\n",
       "2         2.000 1191134.760\n",
       "0         0.000 1088644.071\n",
       "10       10.000  939000.000\n",
       "1         1.000  847279.722"
      ]
     },
     "execution_count": 60,
     "metadata": {},
     "output_type": "execute_result"
    }
   ],
   "source": [
    "# ParkingCars - Price\n",
    "df[[\"ParkingCars\", \"Price\"]].groupby([\"ParkingCars\"], as_index = False).mean().sort_values(by = \"Price\", ascending = False)"
   ]
  },
  {
   "cell_type": "code",
   "execution_count": 61,
   "id": "b07e80dc",
   "metadata": {
    "hidden": true
   },
   "outputs": [
    {
     "data": {
      "text/html": [
       "<div>\n",
       "<style scoped>\n",
       "    .dataframe tbody tr th:only-of-type {\n",
       "        vertical-align: middle;\n",
       "    }\n",
       "\n",
       "    .dataframe tbody tr th {\n",
       "        vertical-align: top;\n",
       "    }\n",
       "\n",
       "    .dataframe thead th {\n",
       "        text-align: right;\n",
       "    }\n",
       "</style>\n",
       "<table border=\"1\" class=\"dataframe\">\n",
       "  <thead>\n",
       "    <tr style=\"text-align: right;\">\n",
       "      <th></th>\n",
       "      <th>House</th>\n",
       "      <th>Price</th>\n",
       "    </tr>\n",
       "  </thead>\n",
       "  <tbody>\n",
       "    <tr>\n",
       "      <th>1</th>\n",
       "      <td>1</td>\n",
       "      <td>1224443.048</td>\n",
       "    </tr>\n",
       "    <tr>\n",
       "      <th>0</th>\n",
       "      <td>0</td>\n",
       "      <td>693772.909</td>\n",
       "    </tr>\n",
       "  </tbody>\n",
       "</table>\n",
       "</div>"
      ],
      "text/plain": [
       "   House       Price\n",
       "1      1 1224443.048\n",
       "0      0  693772.909"
      ]
     },
     "execution_count": 61,
     "metadata": {},
     "output_type": "execute_result"
    }
   ],
   "source": [
    "# House - Price\n",
    "df[[\"House\", \"Price\"]].groupby([\"House\"], as_index = False).mean().sort_values(by = \"Price\", ascending = False)"
   ]
  },
  {
   "cell_type": "code",
   "execution_count": 62,
   "id": "0535ee38",
   "metadata": {
    "hidden": true
   },
   "outputs": [
    {
     "data": {
      "text/html": [
       "<div>\n",
       "<style scoped>\n",
       "    .dataframe tbody tr th:only-of-type {\n",
       "        vertical-align: middle;\n",
       "    }\n",
       "\n",
       "    .dataframe tbody tr th {\n",
       "        vertical-align: top;\n",
       "    }\n",
       "\n",
       "    .dataframe thead th {\n",
       "        text-align: right;\n",
       "    }\n",
       "</style>\n",
       "<table border=\"1\" class=\"dataframe\">\n",
       "  <thead>\n",
       "    <tr style=\"text-align: right;\">\n",
       "      <th></th>\n",
       "      <th>Townhouse</th>\n",
       "      <th>Price</th>\n",
       "    </tr>\n",
       "  </thead>\n",
       "  <tbody>\n",
       "    <tr>\n",
       "      <th>0</th>\n",
       "      <td>0</td>\n",
       "      <td>1092269.050</td>\n",
       "    </tr>\n",
       "    <tr>\n",
       "      <th>1</th>\n",
       "      <td>1</td>\n",
       "      <td>916657.566</td>\n",
       "    </tr>\n",
       "  </tbody>\n",
       "</table>\n",
       "</div>"
      ],
      "text/plain": [
       "   Townhouse       Price\n",
       "0          0 1092269.050\n",
       "1          1  916657.566"
      ]
     },
     "execution_count": 62,
     "metadata": {},
     "output_type": "execute_result"
    }
   ],
   "source": [
    "# Townhouse - Price\n",
    "df[[\"Townhouse\", \"Price\"]].groupby([\"Townhouse\"], as_index = False).mean().sort_values(by = \"Price\", ascending = False)"
   ]
  },
  {
   "cell_type": "code",
   "execution_count": 63,
   "id": "988b4819",
   "metadata": {
    "hidden": true
   },
   "outputs": [
    {
     "data": {
      "text/html": [
       "<div>\n",
       "<style scoped>\n",
       "    .dataframe tbody tr th:only-of-type {\n",
       "        vertical-align: middle;\n",
       "    }\n",
       "\n",
       "    .dataframe tbody tr th {\n",
       "        vertical-align: top;\n",
       "    }\n",
       "\n",
       "    .dataframe thead th {\n",
       "        text-align: right;\n",
       "    }\n",
       "</style>\n",
       "<table border=\"1\" class=\"dataframe\">\n",
       "  <thead>\n",
       "    <tr style=\"text-align: right;\">\n",
       "      <th></th>\n",
       "      <th>Duplex</th>\n",
       "      <th>Price</th>\n",
       "    </tr>\n",
       "  </thead>\n",
       "  <tbody>\n",
       "    <tr>\n",
       "      <th>0</th>\n",
       "      <td>0</td>\n",
       "      <td>1191792.895</td>\n",
       "    </tr>\n",
       "    <tr>\n",
       "      <th>1</th>\n",
       "      <td>1</td>\n",
       "      <td>594079.164</td>\n",
       "    </tr>\n",
       "  </tbody>\n",
       "</table>\n",
       "</div>"
      ],
      "text/plain": [
       "   Duplex       Price\n",
       "0       0 1191792.895\n",
       "1       1  594079.164"
      ]
     },
     "execution_count": 63,
     "metadata": {},
     "output_type": "execute_result"
    }
   ],
   "source": [
    "# Duplex - Price\n",
    "df[[\"Duplex\", \"Price\"]].groupby([\"Duplex\"], as_index = False).mean().sort_values(by = \"Price\", ascending = False)"
   ]
  },
  {
   "cell_type": "markdown",
   "id": "41bc386b",
   "metadata": {
    "heading_collapsed": true,
    "hidden": true
   },
   "source": [
    "#### Visualisation"
   ]
  },
  {
   "cell_type": "code",
   "execution_count": 64,
   "id": "f7279b40",
   "metadata": {
    "hidden": true
   },
   "outputs": [
    {
     "data": {
      "image/png": "[encoded data removed]",
      "text/plain": [
       "<Figure size 1000x800 with 2 Axes>"
      ]
     },
     "metadata": {},
     "output_type": "display_data"
    }
   ],
   "source": [
    "corr = df[numericVar].corr()\n",
    "mask = np.triu(np.ones_like(corr, dtype = bool))\n",
    "\n",
    "plt.figure(figsize = (10, 8))\n",
    "sns.heatmap(corr, mask = mask, annot = True, cmap = 'viridis', cbar_kws = {'label': 'Correlation'}, linewidths = 0.5)\n",
    "plt.title('Heatmap with Upper Triangle Masked')\n",
    "plt.show()"
   ]
  },
  {
   "cell_type": "markdown",
   "id": "9451f210",
   "metadata": {},
   "source": [
    "### Baseline Model"
   ]
  },
  {
   "cell_type": "code",
   "execution_count": 65,
   "id": "84b58148",
   "metadata": {},
   "outputs": [],
   "source": [
    "df = pd.get_dummies(df, drop_first = True)"
   ]
  },
  {
   "cell_type": "code",
   "execution_count": 66,
   "id": "4e93b391",
   "metadata": {},
   "outputs": [],
   "source": [
    "X = df.drop('Price', axis = 1)\n",
    "y = df['Price']\n",
    "X_train, X_test, y_train, y_test = train_test_split(X, y, test_size = 0.2, random_state = 2)"
   ]
  },
  {
   "cell_type": "code",
   "execution_count": 67,
   "id": "3237c6e4",
   "metadata": {},
   "outputs": [
    {
     "name": "stdout",
     "output_type": "stream",
     "text": [
      "Mean Squared Error: 83561139695.2988\n"
     ]
    }
   ],
   "source": [
    "model = xgb.XGBRegressor(objective = 'reg:squarederror', n_estimators = 100, learning_rate = 0.1, max_depth = 3)\n",
    "model.fit(X_train, y_train)\n",
    "y_pred = model.predict(X_test)\n",
    "mse = mean_squared_error(y_test, y_pred)\n",
    "print(f'Mean Squared Error: {mse}')"
   ]
  },
  {
   "cell_type": "code",
   "execution_count": null,
   "id": "cf36fd4c",
   "metadata": {},
   "outputs": [],
   "source": []
  }
 ],
 "metadata": {
  "gist": {
   "data": {
    "description": "Downloads/ML_Projects/Housing- Regression/Melbourne Housing.ipynb",
    "public": false
   },
   "id": ""
  },
  "kernelspec": {
   "display_name": "Python 3 (ipykernel)",
   "language": "python",
   "name": "python3"
  },
  "language_info": {
   "codemirror_mode": {
    "name": "ipython",
    "version": 3
   },
   "file_extension": ".py",
   "mimetype": "text/x-python",
   "name": "python",
   "nbconvert_exporter": "python",
   "pygments_lexer": "ipython3",
   "version": "3.11.6"
  },
  "varInspector": {
   "cols": {
    "lenName": 16,
    "lenType": 16,
    "lenVar": 40
   },
   "kernels_config": {
    "python": {
     "delete_cmd_postfix": "",
     "delete_cmd_prefix": "del ",
     "library": "var_list.py",
     "varRefreshCmd": "print(var_dic_list())"
    },
    "r": {
     "delete_cmd_postfix": ") ",
     "delete_cmd_prefix": "rm(",
     "library": "var_list.r",
     "varRefreshCmd": "cat(var_dic_list()) "
    }
   },
   "types_to_exclude": [
    "module",
    "function",
    "builtin_function_or_method",
    "instance",
    "_Feature"
   ],
   "window_display": false
  }
 },
 "nbformat": 4,
 "nbformat_minor": 5
}
